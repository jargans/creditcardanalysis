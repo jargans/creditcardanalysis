{
 "cells": [
  {
   "cell_type": "markdown",
   "id": "b8f11208",
   "metadata": {},
   "source": [
    "# Credit Card Analysis "
   ]
  },
  {
   "cell_type": "code",
   "execution_count": 1,
   "id": "3c99be13",
   "metadata": {},
   "outputs": [
    {
     "name": "stdout",
     "output_type": "stream",
     "text": [
      "Requirement already satisfied: imblearn in /home/ec2-user/.local/lib/python3.6/site-packages (0.0)\n",
      "Requirement already satisfied: imbalanced-learn in /home/ec2-user/.local/lib/python3.6/site-packages (from imblearn) (0.8.0)\n",
      "Requirement already satisfied: scikit-learn>=0.24 in /home/ec2-user/anaconda3/envs/tensorflow2_p36/lib/python3.6/site-packages (from imbalanced-learn->imblearn) (0.24.1)\n",
      "Requirement already satisfied: joblib>=0.11 in /home/ec2-user/anaconda3/envs/tensorflow2_p36/lib/python3.6/site-packages (from imbalanced-learn->imblearn) (1.0.1)\n",
      "Requirement already satisfied: numpy>=1.13.3 in /home/ec2-user/anaconda3/envs/tensorflow2_p36/lib/python3.6/site-packages (from imbalanced-learn->imblearn) (1.18.5)\n",
      "Requirement already satisfied: scipy>=0.19.1 in /home/ec2-user/anaconda3/envs/tensorflow2_p36/lib/python3.6/site-packages (from imbalanced-learn->imblearn) (1.5.3)\n",
      "Requirement already satisfied: threadpoolctl>=2.0.0 in /home/ec2-user/anaconda3/envs/tensorflow2_p36/lib/python3.6/site-packages (from scikit-learn>=0.24->imbalanced-learn->imblearn) (2.1.0)\n",
      "\u001b[33mWARNING: You are using pip version 21.1.2; however, version 21.1.3 is available.\n",
      "You should consider upgrading via the '/home/ec2-user/anaconda3/envs/tensorflow2_p36/bin/python -m pip install --upgrade pip' command.\u001b[0m\n"
     ]
    }
   ],
   "source": [
    "!pip install --user imblearn"
   ]
  },
  {
   "cell_type": "code",
   "execution_count": 2,
   "id": "58893ec5",
   "metadata": {},
   "outputs": [],
   "source": [
    "import pandas as pd\n",
    "import numpy as np\n",
    "import matplotlib.pyplot as plt\n",
    "import seaborn as sns\n",
    "%matplotlib inline"
   ]
  },
  {
   "cell_type": "markdown",
   "id": "1b34553b",
   "metadata": {},
   "source": [
    "## Importing dataset"
   ]
  },
  {
   "cell_type": "markdown",
   "id": "5da2e61a",
   "metadata": {},
   "source": [
    "## importing account dataset as acasc"
   ]
  },
  {
   "cell_type": "code",
   "execution_count": 3,
   "id": "c6bc2197",
   "metadata": {},
   "outputs": [],
   "source": [
    "acasc=pd.read_csv(\"https://drive.google.com/uc?export=download&id=1oIORnP6y7TRrVnnWhBakcyzr4v-XfAW0\",sep=\";\")"
   ]
  },
  {
   "cell_type": "markdown",
   "id": "788a2c5a",
   "metadata": {},
   "source": [
    "## importing card dataset as cardasc"
   ]
  },
  {
   "cell_type": "code",
   "execution_count": 4,
   "id": "81a42f35",
   "metadata": {},
   "outputs": [],
   "source": [
    "cardasc=pd.read_csv(\"https://drive.google.com/uc?export=download&id=1ksfsymSKldqWcYMWQqcOZsXFw0H1Sf-X\",sep=\";\")"
   ]
  },
  {
   "cell_type": "markdown",
   "id": "0aa6e4f9",
   "metadata": {},
   "source": [
    "## importing client dataset as clientasc"
   ]
  },
  {
   "cell_type": "code",
   "execution_count": 5,
   "id": "77e41814",
   "metadata": {},
   "outputs": [],
   "source": [
    "clientasc=pd.read_csv(\"https://drive.google.com/uc?export=download&id=1TCtuy3slmqv02sDycY7AlkXVxCH_Y1xU\",sep=\";\")"
   ]
  },
  {
   "cell_type": "markdown",
   "id": "b7d98766",
   "metadata": {},
   "source": [
    "## importing disposition dataset as dispasc"
   ]
  },
  {
   "cell_type": "code",
   "execution_count": 6,
   "id": "549bb2b5",
   "metadata": {},
   "outputs": [],
   "source": [
    "dispasc=pd.read_csv(\"https://drive.google.com/uc?export=download&id=1V_KyTCqjEiaFQnC8gQhdQW8NgjrJp9KH\",sep=\";\")"
   ]
  },
  {
   "cell_type": "markdown",
   "id": "facc5127",
   "metadata": {},
   "source": [
    "## importing district dataset as distasc"
   ]
  },
  {
   "cell_type": "code",
   "execution_count": 7,
   "id": "7e9e0fed",
   "metadata": {},
   "outputs": [],
   "source": [
    "distasc=pd.read_csv(\"https://drive.google.com/uc?export=download&id=1vndUpEjEu1K1P5wgGA_NpHmmLIbLsRXy\",sep=\";\")"
   ]
  },
  {
   "cell_type": "markdown",
   "id": "ba3ad3d6",
   "metadata": {},
   "source": [
    "## importing loan dataset as loanasc"
   ]
  },
  {
   "cell_type": "code",
   "execution_count": 8,
   "id": "ce3835d1",
   "metadata": {},
   "outputs": [],
   "source": [
    "loanasc=pd.read_csv(\"https://drive.google.com/uc?export=download&id=1Ex28rEwmE8JriScwJOY4aoovX3RuL1Ua\",sep=\";\")"
   ]
  },
  {
   "cell_type": "markdown",
   "id": "27e12a38",
   "metadata": {},
   "source": [
    "## importing order dataset as orderasc"
   ]
  },
  {
   "cell_type": "code",
   "execution_count": 9,
   "id": "09bc2984",
   "metadata": {},
   "outputs": [],
   "source": [
    "orderasc=pd.read_csv(\"https://drive.google.com/uc?export=download&id=1DzKPa7ZS4nE0uZR6tgE2uns1pmlcxsI7\",sep=\";\")"
   ]
  },
  {
   "cell_type": "markdown",
   "id": "01463aed",
   "metadata": {},
   "source": [
    "## importing transaction dataset as transasc"
   ]
  },
  {
   "cell_type": "code",
   "execution_count": 10,
   "id": "cef94d15",
   "metadata": {},
   "outputs": [
    {
     "name": "stderr",
     "output_type": "stream",
     "text": [
      "/home/ec2-user/anaconda3/envs/tensorflow2_p36/lib/python3.6/site-packages/IPython/core/interactiveshell.py:3072: DtypeWarning: Columns (8) have mixed types.Specify dtype option on import or set low_memory=False.\n",
      "  interactivity=interactivity, compiler=compiler, result=result)\n"
     ]
    }
   ],
   "source": [
    "transasc=pd.read_csv(\"https://drive.google.com/uc?export=download&id=11MZiq_J78wDII48oGSL9D5PRqjk84DZ8\",sep=\";\")"
   ]
  },
  {
   "cell_type": "markdown",
   "id": "54a39bf5",
   "metadata": {},
   "source": [
    "\n",
    "Translated values as follows: given in task\n",
    "\n",
    "POPLATEK MESICNE changed to MONTHLY ISSUANCE (MI)\n",
    "\n",
    "POPLATEK TYDNE changed to WEEKLY ISSUANCE (WI)\n",
    "\n",
    "POPLATEK PO OBRATU change to ISSUANCE AFTER TRANSACTION (TI)"
   ]
  },
  {
   "cell_type": "code",
   "execution_count": 11,
   "id": "8e24b661",
   "metadata": {},
   "outputs": [],
   "source": [
    "frequency={\"POPLATEK MESICNE\" : \"MI\",\"POPLATEK TYDNE\" : \"WI\" ,\"POPLATEK PO OBRATU\" : \"TI\"}"
   ]
  },
  {
   "cell_type": "code",
   "execution_count": 12,
   "id": "4f53e102",
   "metadata": {},
   "outputs": [],
   "source": [
    "acasc[\"frequency\"]=acasc[\"frequency\"].map(frequency)"
   ]
  },
  {
   "cell_type": "code",
   "execution_count": 13,
   "id": "12ea3c5f",
   "metadata": {},
   "outputs": [
    {
     "data": {
      "text/plain": [
       "MI    4167\n",
       "WI     240\n",
       "TI      93\n",
       "Name: frequency, dtype: int64"
      ]
     },
     "execution_count": 13,
     "metadata": {},
     "output_type": "execute_result"
    }
   ],
   "source": [
    "acasc[\"frequency\"].value_counts()"
   ]
  },
  {
   "cell_type": "markdown",
   "id": "b9e29cb6",
   "metadata": {},
   "source": [
    "#### DROPPING DATE COLUMN because date column was not contributing much on output variable and was also given in the task"
   ]
  },
  {
   "cell_type": "code",
   "execution_count": 14,
   "id": "85367bfc",
   "metadata": {},
   "outputs": [],
   "source": [
    "acasc.drop(\"date\",axis=1,inplace=True)"
   ]
  },
  {
   "cell_type": "markdown",
   "id": "55831d88",
   "metadata": {},
   "source": [
    "### Combining loan and transaction dataset based on account_id column because account dataset has account id as primary key and transaction datset has account id as foreign key\n"
   ]
  },
  {
   "cell_type": "code",
   "execution_count": 15,
   "id": "39966897",
   "metadata": {},
   "outputs": [
    {
     "name": "stdout",
     "output_type": "stream",
     "text": [
      "(191556, 16)\n"
     ]
    },
    {
     "data": {
      "text/html": [
       "<div>\n",
       "<style scoped>\n",
       "    .dataframe tbody tr th:only-of-type {\n",
       "        vertical-align: middle;\n",
       "    }\n",
       "\n",
       "    .dataframe tbody tr th {\n",
       "        vertical-align: top;\n",
       "    }\n",
       "\n",
       "    .dataframe thead th {\n",
       "        text-align: right;\n",
       "    }\n",
       "</style>\n",
       "<table border=\"1\" class=\"dataframe\">\n",
       "  <thead>\n",
       "    <tr style=\"text-align: right;\">\n",
       "      <th></th>\n",
       "      <th>loan_id</th>\n",
       "      <th>account_id</th>\n",
       "      <th>date_x</th>\n",
       "      <th>amount_x</th>\n",
       "      <th>duration</th>\n",
       "      <th>payments</th>\n",
       "      <th>status</th>\n",
       "      <th>trans_id</th>\n",
       "      <th>date_y</th>\n",
       "      <th>type</th>\n",
       "      <th>operation</th>\n",
       "      <th>amount_y</th>\n",
       "      <th>balance</th>\n",
       "      <th>k_symbol</th>\n",
       "      <th>bank</th>\n",
       "      <th>account</th>\n",
       "    </tr>\n",
       "  </thead>\n",
       "  <tbody>\n",
       "    <tr>\n",
       "      <th>0</th>\n",
       "      <td>5314</td>\n",
       "      <td>1787</td>\n",
       "      <td>930705</td>\n",
       "      <td>96396</td>\n",
       "      <td>12</td>\n",
       "      <td>8033.0</td>\n",
       "      <td>B</td>\n",
       "      <td>523621</td>\n",
       "      <td>930322</td>\n",
       "      <td>PRIJEM</td>\n",
       "      <td>VKLAD</td>\n",
       "      <td>1100.0</td>\n",
       "      <td>1100.0</td>\n",
       "      <td>NaN</td>\n",
       "      <td>NaN</td>\n",
       "      <td>NaN</td>\n",
       "    </tr>\n",
       "    <tr>\n",
       "      <th>1</th>\n",
       "      <td>5314</td>\n",
       "      <td>1787</td>\n",
       "      <td>930705</td>\n",
       "      <td>96396</td>\n",
       "      <td>12</td>\n",
       "      <td>8033.0</td>\n",
       "      <td>B</td>\n",
       "      <td>524054</td>\n",
       "      <td>930421</td>\n",
       "      <td>PRIJEM</td>\n",
       "      <td>VKLAD</td>\n",
       "      <td>9900.0</td>\n",
       "      <td>11000.0</td>\n",
       "      <td>NaN</td>\n",
       "      <td>NaN</td>\n",
       "      <td>NaN</td>\n",
       "    </tr>\n",
       "    <tr>\n",
       "      <th>2</th>\n",
       "      <td>5314</td>\n",
       "      <td>1787</td>\n",
       "      <td>930705</td>\n",
       "      <td>96396</td>\n",
       "      <td>12</td>\n",
       "      <td>8033.0</td>\n",
       "      <td>B</td>\n",
       "      <td>524055</td>\n",
       "      <td>930521</td>\n",
       "      <td>PRIJEM</td>\n",
       "      <td>VKLAD</td>\n",
       "      <td>5800.0</td>\n",
       "      <td>16800.0</td>\n",
       "      <td>NaN</td>\n",
       "      <td>NaN</td>\n",
       "      <td>NaN</td>\n",
       "    </tr>\n",
       "    <tr>\n",
       "      <th>3</th>\n",
       "      <td>5314</td>\n",
       "      <td>1787</td>\n",
       "      <td>930705</td>\n",
       "      <td>96396</td>\n",
       "      <td>12</td>\n",
       "      <td>8033.0</td>\n",
       "      <td>B</td>\n",
       "      <td>524056</td>\n",
       "      <td>930620</td>\n",
       "      <td>PRIJEM</td>\n",
       "      <td>VKLAD</td>\n",
       "      <td>3300.0</td>\n",
       "      <td>20100.0</td>\n",
       "      <td>NaN</td>\n",
       "      <td>NaN</td>\n",
       "      <td>NaN</td>\n",
       "    </tr>\n",
       "    <tr>\n",
       "      <th>4</th>\n",
       "      <td>5314</td>\n",
       "      <td>1787</td>\n",
       "      <td>930705</td>\n",
       "      <td>96396</td>\n",
       "      <td>12</td>\n",
       "      <td>8033.0</td>\n",
       "      <td>B</td>\n",
       "      <td>523624</td>\n",
       "      <td>930708</td>\n",
       "      <td>PRIJEM</td>\n",
       "      <td>VKLAD</td>\n",
       "      <td>42248.0</td>\n",
       "      <td>62348.0</td>\n",
       "      <td>NaN</td>\n",
       "      <td>NaN</td>\n",
       "      <td>NaN</td>\n",
       "    </tr>\n",
       "  </tbody>\n",
       "</table>\n",
       "</div>"
      ],
      "text/plain": [
       "   loan_id  account_id  date_x  amount_x  duration  payments status  trans_id  \\\n",
       "0     5314        1787  930705     96396        12    8033.0      B    523621   \n",
       "1     5314        1787  930705     96396        12    8033.0      B    524054   \n",
       "2     5314        1787  930705     96396        12    8033.0      B    524055   \n",
       "3     5314        1787  930705     96396        12    8033.0      B    524056   \n",
       "4     5314        1787  930705     96396        12    8033.0      B    523624   \n",
       "\n",
       "   date_y    type operation  amount_y  balance k_symbol bank  account  \n",
       "0  930322  PRIJEM     VKLAD    1100.0   1100.0      NaN  NaN      NaN  \n",
       "1  930421  PRIJEM     VKLAD    9900.0  11000.0      NaN  NaN      NaN  \n",
       "2  930521  PRIJEM     VKLAD    5800.0  16800.0      NaN  NaN      NaN  \n",
       "3  930620  PRIJEM     VKLAD    3300.0  20100.0      NaN  NaN      NaN  \n",
       "4  930708  PRIJEM     VKLAD   42248.0  62348.0      NaN  NaN      NaN  "
      ]
     },
     "execution_count": 15,
     "metadata": {},
     "output_type": "execute_result"
    }
   ],
   "source": [
    "ln_ac=pd.merge(loanasc,transasc,on=\"account_id\")\n",
    "print(ln_ac.shape)\n",
    "ln_ac.head()"
   ]
  },
  {
   "cell_type": "markdown",
   "id": "d1ab5316",
   "metadata": {},
   "source": [
    "### Combining account dataset with new combined dataset having both loan and transaction on the basis of account id"
   ]
  },
  {
   "cell_type": "code",
   "execution_count": 16,
   "id": "b54fdbe9",
   "metadata": {},
   "outputs": [
    {
     "name": "stdout",
     "output_type": "stream",
     "text": [
      "(191556, 18)\n"
     ]
    },
    {
     "data": {
      "text/html": [
       "<div>\n",
       "<style scoped>\n",
       "    .dataframe tbody tr th:only-of-type {\n",
       "        vertical-align: middle;\n",
       "    }\n",
       "\n",
       "    .dataframe tbody tr th {\n",
       "        vertical-align: top;\n",
       "    }\n",
       "\n",
       "    .dataframe thead th {\n",
       "        text-align: right;\n",
       "    }\n",
       "</style>\n",
       "<table border=\"1\" class=\"dataframe\">\n",
       "  <thead>\n",
       "    <tr style=\"text-align: right;\">\n",
       "      <th></th>\n",
       "      <th>account_id</th>\n",
       "      <th>district_id</th>\n",
       "      <th>frequency</th>\n",
       "      <th>loan_id</th>\n",
       "      <th>date_x</th>\n",
       "      <th>amount_x</th>\n",
       "      <th>duration</th>\n",
       "      <th>payments</th>\n",
       "      <th>status</th>\n",
       "      <th>trans_id</th>\n",
       "      <th>date_y</th>\n",
       "      <th>type</th>\n",
       "      <th>operation</th>\n",
       "      <th>amount_y</th>\n",
       "      <th>balance</th>\n",
       "      <th>k_symbol</th>\n",
       "      <th>bank</th>\n",
       "      <th>account</th>\n",
       "    </tr>\n",
       "  </thead>\n",
       "  <tbody>\n",
       "    <tr>\n",
       "      <th>0</th>\n",
       "      <td>5270</td>\n",
       "      <td>44</td>\n",
       "      <td>MI</td>\n",
       "      <td>6077</td>\n",
       "      <td>931122</td>\n",
       "      <td>79608</td>\n",
       "      <td>24</td>\n",
       "      <td>3317.0</td>\n",
       "      <td>A</td>\n",
       "      <td>1548749</td>\n",
       "      <td>930113</td>\n",
       "      <td>PRIJEM</td>\n",
       "      <td>VKLAD</td>\n",
       "      <td>800.0</td>\n",
       "      <td>800.0</td>\n",
       "      <td>NaN</td>\n",
       "      <td>NaN</td>\n",
       "      <td>NaN</td>\n",
       "    </tr>\n",
       "    <tr>\n",
       "      <th>1</th>\n",
       "      <td>5270</td>\n",
       "      <td>44</td>\n",
       "      <td>MI</td>\n",
       "      <td>6077</td>\n",
       "      <td>931122</td>\n",
       "      <td>79608</td>\n",
       "      <td>24</td>\n",
       "      <td>3317.0</td>\n",
       "      <td>A</td>\n",
       "      <td>1548750</td>\n",
       "      <td>930114</td>\n",
       "      <td>PRIJEM</td>\n",
       "      <td>PREVOD Z UCTU</td>\n",
       "      <td>44749.0</td>\n",
       "      <td>45549.0</td>\n",
       "      <td>NaN</td>\n",
       "      <td>IJ</td>\n",
       "      <td>80269753.0</td>\n",
       "    </tr>\n",
       "    <tr>\n",
       "      <th>2</th>\n",
       "      <td>5270</td>\n",
       "      <td>44</td>\n",
       "      <td>MI</td>\n",
       "      <td>6077</td>\n",
       "      <td>931122</td>\n",
       "      <td>79608</td>\n",
       "      <td>24</td>\n",
       "      <td>3317.0</td>\n",
       "      <td>A</td>\n",
       "      <td>3669814</td>\n",
       "      <td>930131</td>\n",
       "      <td>PRIJEM</td>\n",
       "      <td>NaN</td>\n",
       "      <td>110.2</td>\n",
       "      <td>45659.2</td>\n",
       "      <td>UROK</td>\n",
       "      <td>NaN</td>\n",
       "      <td>NaN</td>\n",
       "    </tr>\n",
       "    <tr>\n",
       "      <th>3</th>\n",
       "      <td>5270</td>\n",
       "      <td>44</td>\n",
       "      <td>MI</td>\n",
       "      <td>6077</td>\n",
       "      <td>931122</td>\n",
       "      <td>79608</td>\n",
       "      <td>24</td>\n",
       "      <td>3317.0</td>\n",
       "      <td>A</td>\n",
       "      <td>1549098</td>\n",
       "      <td>930212</td>\n",
       "      <td>VYDAJ</td>\n",
       "      <td>VYBER</td>\n",
       "      <td>9600.0</td>\n",
       "      <td>36059.2</td>\n",
       "      <td>NaN</td>\n",
       "      <td>NaN</td>\n",
       "      <td>NaN</td>\n",
       "    </tr>\n",
       "    <tr>\n",
       "      <th>4</th>\n",
       "      <td>5270</td>\n",
       "      <td>44</td>\n",
       "      <td>MI</td>\n",
       "      <td>6077</td>\n",
       "      <td>931122</td>\n",
       "      <td>79608</td>\n",
       "      <td>24</td>\n",
       "      <td>3317.0</td>\n",
       "      <td>A</td>\n",
       "      <td>1548751</td>\n",
       "      <td>930214</td>\n",
       "      <td>PRIJEM</td>\n",
       "      <td>PREVOD Z UCTU</td>\n",
       "      <td>44749.0</td>\n",
       "      <td>80808.2</td>\n",
       "      <td>NaN</td>\n",
       "      <td>IJ</td>\n",
       "      <td>80269753.0</td>\n",
       "    </tr>\n",
       "  </tbody>\n",
       "</table>\n",
       "</div>"
      ],
      "text/plain": [
       "   account_id  district_id frequency  loan_id  date_x  amount_x  duration  \\\n",
       "0        5270           44        MI     6077  931122     79608        24   \n",
       "1        5270           44        MI     6077  931122     79608        24   \n",
       "2        5270           44        MI     6077  931122     79608        24   \n",
       "3        5270           44        MI     6077  931122     79608        24   \n",
       "4        5270           44        MI     6077  931122     79608        24   \n",
       "\n",
       "   payments status  trans_id  date_y    type      operation  amount_y  \\\n",
       "0    3317.0      A   1548749  930113  PRIJEM          VKLAD     800.0   \n",
       "1    3317.0      A   1548750  930114  PRIJEM  PREVOD Z UCTU   44749.0   \n",
       "2    3317.0      A   3669814  930131  PRIJEM            NaN     110.2   \n",
       "3    3317.0      A   1549098  930212   VYDAJ          VYBER    9600.0   \n",
       "4    3317.0      A   1548751  930214  PRIJEM  PREVOD Z UCTU   44749.0   \n",
       "\n",
       "   balance k_symbol bank     account  \n",
       "0    800.0      NaN  NaN         NaN  \n",
       "1  45549.0      NaN   IJ  80269753.0  \n",
       "2  45659.2     UROK  NaN         NaN  \n",
       "3  36059.2      NaN  NaN         NaN  \n",
       "4  80808.2      NaN   IJ  80269753.0  "
      ]
     },
     "execution_count": 16,
     "metadata": {},
     "output_type": "execute_result"
    }
   ],
   "source": [
    "acc_ln_tr=pd.merge(acasc,ln_ac,on=\"account_id\")\n",
    "print(acc_ln_tr.shape)\n",
    "acc_ln_tr.head()"
   ]
  },
  {
   "cell_type": "markdown",
   "id": "3f1725d9",
   "metadata": {},
   "source": [
    "### Combining district dataset with new combined dataset having loan, account and transaction based on district id"
   ]
  },
  {
   "cell_type": "markdown",
   "id": "adda1f2a",
   "metadata": {},
   "source": [
    "### Before merging district dataset we have to do data cleanig of district dataset"
   ]
  },
  {
   "cell_type": "code",
   "execution_count": 17,
   "id": "70dc2d57",
   "metadata": {},
   "outputs": [
    {
     "data": {
      "text/html": [
       "<div>\n",
       "<style scoped>\n",
       "    .dataframe tbody tr th:only-of-type {\n",
       "        vertical-align: middle;\n",
       "    }\n",
       "\n",
       "    .dataframe tbody tr th {\n",
       "        vertical-align: top;\n",
       "    }\n",
       "\n",
       "    .dataframe thead th {\n",
       "        text-align: right;\n",
       "    }\n",
       "</style>\n",
       "<table border=\"1\" class=\"dataframe\">\n",
       "  <thead>\n",
       "    <tr style=\"text-align: right;\">\n",
       "      <th></th>\n",
       "      <th>district_id</th>\n",
       "    </tr>\n",
       "  </thead>\n",
       "  <tbody>\n",
       "    <tr>\n",
       "      <th>0</th>\n",
       "      <td>1</td>\n",
       "    </tr>\n",
       "    <tr>\n",
       "      <th>1</th>\n",
       "      <td>2</td>\n",
       "    </tr>\n",
       "    <tr>\n",
       "      <th>2</th>\n",
       "      <td>3</td>\n",
       "    </tr>\n",
       "    <tr>\n",
       "      <th>3</th>\n",
       "      <td>4</td>\n",
       "    </tr>\n",
       "    <tr>\n",
       "      <th>4</th>\n",
       "      <td>5</td>\n",
       "    </tr>\n",
       "    <tr>\n",
       "      <th>...</th>\n",
       "      <td>...</td>\n",
       "    </tr>\n",
       "    <tr>\n",
       "      <th>72</th>\n",
       "      <td>73</td>\n",
       "    </tr>\n",
       "    <tr>\n",
       "      <th>73</th>\n",
       "      <td>74</td>\n",
       "    </tr>\n",
       "    <tr>\n",
       "      <th>74</th>\n",
       "      <td>75</td>\n",
       "    </tr>\n",
       "    <tr>\n",
       "      <th>75</th>\n",
       "      <td>76</td>\n",
       "    </tr>\n",
       "    <tr>\n",
       "      <th>76</th>\n",
       "      <td>77</td>\n",
       "    </tr>\n",
       "  </tbody>\n",
       "</table>\n",
       "<p>77 rows × 1 columns</p>\n",
       "</div>"
      ],
      "text/plain": [
       "    district_id\n",
       "0             1\n",
       "1             2\n",
       "2             3\n",
       "3             4\n",
       "4             5\n",
       "..          ...\n",
       "72           73\n",
       "73           74\n",
       "74           75\n",
       "75           76\n",
       "76           77\n",
       "\n",
       "[77 rows x 1 columns]"
      ]
     },
     "execution_count": 17,
     "metadata": {},
     "output_type": "execute_result"
    }
   ],
   "source": [
    "dst=pd.DataFrame(distasc[\"A1\"])\n",
    "dst=dst.rename(columns = {\"A1\":\"district_id\"})\n",
    "dst"
   ]
  },
  {
   "cell_type": "code",
   "execution_count": 18,
   "id": "80bdd365",
   "metadata": {},
   "outputs": [
    {
     "name": "stdout",
     "output_type": "stream",
     "text": [
      "(191556, 18)\n"
     ]
    },
    {
     "data": {
      "text/html": [
       "<div>\n",
       "<style scoped>\n",
       "    .dataframe tbody tr th:only-of-type {\n",
       "        vertical-align: middle;\n",
       "    }\n",
       "\n",
       "    .dataframe tbody tr th {\n",
       "        vertical-align: top;\n",
       "    }\n",
       "\n",
       "    .dataframe thead th {\n",
       "        text-align: right;\n",
       "    }\n",
       "</style>\n",
       "<table border=\"1\" class=\"dataframe\">\n",
       "  <thead>\n",
       "    <tr style=\"text-align: right;\">\n",
       "      <th></th>\n",
       "      <th>district_id</th>\n",
       "      <th>account_id</th>\n",
       "      <th>frequency</th>\n",
       "      <th>loan_id</th>\n",
       "      <th>date_x</th>\n",
       "      <th>amount_x</th>\n",
       "      <th>duration</th>\n",
       "      <th>payments</th>\n",
       "      <th>status</th>\n",
       "      <th>trans_id</th>\n",
       "      <th>date_y</th>\n",
       "      <th>type</th>\n",
       "      <th>operation</th>\n",
       "      <th>amount_y</th>\n",
       "      <th>balance</th>\n",
       "      <th>k_symbol</th>\n",
       "      <th>bank</th>\n",
       "      <th>account</th>\n",
       "    </tr>\n",
       "  </thead>\n",
       "  <tbody>\n",
       "    <tr>\n",
       "      <th>0</th>\n",
       "      <td>1</td>\n",
       "      <td>9265</td>\n",
       "      <td>MI</td>\n",
       "      <td>6888</td>\n",
       "      <td>940711</td>\n",
       "      <td>39576</td>\n",
       "      <td>12</td>\n",
       "      <td>3298.0</td>\n",
       "      <td>A</td>\n",
       "      <td>2797771</td>\n",
       "      <td>930204</td>\n",
       "      <td>PRIJEM</td>\n",
       "      <td>VKLAD</td>\n",
       "      <td>300.0</td>\n",
       "      <td>300.0</td>\n",
       "      <td>NaN</td>\n",
       "      <td>NaN</td>\n",
       "      <td>NaN</td>\n",
       "    </tr>\n",
       "    <tr>\n",
       "      <th>1</th>\n",
       "      <td>1</td>\n",
       "      <td>9265</td>\n",
       "      <td>MI</td>\n",
       "      <td>6888</td>\n",
       "      <td>940711</td>\n",
       "      <td>39576</td>\n",
       "      <td>12</td>\n",
       "      <td>3298.0</td>\n",
       "      <td>A</td>\n",
       "      <td>2797779</td>\n",
       "      <td>930223</td>\n",
       "      <td>PRIJEM</td>\n",
       "      <td>VKLAD</td>\n",
       "      <td>28361.0</td>\n",
       "      <td>28661.0</td>\n",
       "      <td>NaN</td>\n",
       "      <td>NaN</td>\n",
       "      <td>NaN</td>\n",
       "    </tr>\n",
       "    <tr>\n",
       "      <th>2</th>\n",
       "      <td>1</td>\n",
       "      <td>9265</td>\n",
       "      <td>MI</td>\n",
       "      <td>6888</td>\n",
       "      <td>940711</td>\n",
       "      <td>39576</td>\n",
       "      <td>12</td>\n",
       "      <td>3298.0</td>\n",
       "      <td>A</td>\n",
       "      <td>3509732</td>\n",
       "      <td>930228</td>\n",
       "      <td>PRIJEM</td>\n",
       "      <td>NaN</td>\n",
       "      <td>21.3</td>\n",
       "      <td>28707.9</td>\n",
       "      <td>UROK</td>\n",
       "      <td>NaN</td>\n",
       "      <td>NaN</td>\n",
       "    </tr>\n",
       "    <tr>\n",
       "      <th>3</th>\n",
       "      <td>1</td>\n",
       "      <td>9265</td>\n",
       "      <td>MI</td>\n",
       "      <td>6888</td>\n",
       "      <td>940711</td>\n",
       "      <td>39576</td>\n",
       "      <td>12</td>\n",
       "      <td>3298.0</td>\n",
       "      <td>A</td>\n",
       "      <td>3479717</td>\n",
       "      <td>930228</td>\n",
       "      <td>PRIJEM</td>\n",
       "      <td>NaN</td>\n",
       "      <td>25.6</td>\n",
       "      <td>28686.6</td>\n",
       "      <td>UROK</td>\n",
       "      <td>NaN</td>\n",
       "      <td>NaN</td>\n",
       "    </tr>\n",
       "    <tr>\n",
       "      <th>4</th>\n",
       "      <td>1</td>\n",
       "      <td>9265</td>\n",
       "      <td>MI</td>\n",
       "      <td>6888</td>\n",
       "      <td>940711</td>\n",
       "      <td>39576</td>\n",
       "      <td>12</td>\n",
       "      <td>3298.0</td>\n",
       "      <td>A</td>\n",
       "      <td>2797781</td>\n",
       "      <td>930304</td>\n",
       "      <td>PRIJEM</td>\n",
       "      <td>VKLAD</td>\n",
       "      <td>37305.0</td>\n",
       "      <td>66012.9</td>\n",
       "      <td>NaN</td>\n",
       "      <td>NaN</td>\n",
       "      <td>NaN</td>\n",
       "    </tr>\n",
       "  </tbody>\n",
       "</table>\n",
       "</div>"
      ],
      "text/plain": [
       "   district_id  account_id frequency  loan_id  date_x  amount_x  duration  \\\n",
       "0            1        9265        MI     6888  940711     39576        12   \n",
       "1            1        9265        MI     6888  940711     39576        12   \n",
       "2            1        9265        MI     6888  940711     39576        12   \n",
       "3            1        9265        MI     6888  940711     39576        12   \n",
       "4            1        9265        MI     6888  940711     39576        12   \n",
       "\n",
       "   payments status  trans_id  date_y    type operation  amount_y  balance  \\\n",
       "0    3298.0      A   2797771  930204  PRIJEM     VKLAD     300.0    300.0   \n",
       "1    3298.0      A   2797779  930223  PRIJEM     VKLAD   28361.0  28661.0   \n",
       "2    3298.0      A   3509732  930228  PRIJEM       NaN      21.3  28707.9   \n",
       "3    3298.0      A   3479717  930228  PRIJEM       NaN      25.6  28686.6   \n",
       "4    3298.0      A   2797781  930304  PRIJEM     VKLAD   37305.0  66012.9   \n",
       "\n",
       "  k_symbol bank  account  \n",
       "0      NaN  NaN      NaN  \n",
       "1      NaN  NaN      NaN  \n",
       "2     UROK  NaN      NaN  \n",
       "3     UROK  NaN      NaN  \n",
       "4      NaN  NaN      NaN  "
      ]
     },
     "execution_count": 18,
     "metadata": {},
     "output_type": "execute_result"
    }
   ],
   "source": [
    "acc_ln_tr_dst=pd.merge(dst,acc_ln_tr,on=\"district_id\")\n",
    "print(acc_ln_tr_dst.shape)\n",
    "acc_ln_tr_dst.head()"
   ]
  },
  {
   "cell_type": "markdown",
   "id": "a2719f2f",
   "metadata": {},
   "source": [
    "### Combining credit card dataset with disposition dataset based on disposition id"
   ]
  },
  {
   "cell_type": "code",
   "execution_count": 19,
   "id": "c43f5bc6",
   "metadata": {},
   "outputs": [
    {
     "name": "stdout",
     "output_type": "stream",
     "text": [
      "(892, 7)\n"
     ]
    },
    {
     "data": {
      "text/html": [
       "<div>\n",
       "<style scoped>\n",
       "    .dataframe tbody tr th:only-of-type {\n",
       "        vertical-align: middle;\n",
       "    }\n",
       "\n",
       "    .dataframe tbody tr th {\n",
       "        vertical-align: top;\n",
       "    }\n",
       "\n",
       "    .dataframe thead th {\n",
       "        text-align: right;\n",
       "    }\n",
       "</style>\n",
       "<table border=\"1\" class=\"dataframe\">\n",
       "  <thead>\n",
       "    <tr style=\"text-align: right;\">\n",
       "      <th></th>\n",
       "      <th>card_id</th>\n",
       "      <th>disp_id</th>\n",
       "      <th>type_x</th>\n",
       "      <th>issued</th>\n",
       "      <th>client_id</th>\n",
       "      <th>account_id</th>\n",
       "      <th>type_y</th>\n",
       "    </tr>\n",
       "  </thead>\n",
       "  <tbody>\n",
       "    <tr>\n",
       "      <th>0</th>\n",
       "      <td>1005</td>\n",
       "      <td>9285</td>\n",
       "      <td>classic</td>\n",
       "      <td>931107 00:00:00</td>\n",
       "      <td>9593</td>\n",
       "      <td>7753</td>\n",
       "      <td>OWNER</td>\n",
       "    </tr>\n",
       "    <tr>\n",
       "      <th>1</th>\n",
       "      <td>104</td>\n",
       "      <td>588</td>\n",
       "      <td>classic</td>\n",
       "      <td>940119 00:00:00</td>\n",
       "      <td>588</td>\n",
       "      <td>489</td>\n",
       "      <td>OWNER</td>\n",
       "    </tr>\n",
       "    <tr>\n",
       "      <th>2</th>\n",
       "      <td>747</td>\n",
       "      <td>4915</td>\n",
       "      <td>classic</td>\n",
       "      <td>940205 00:00:00</td>\n",
       "      <td>4915</td>\n",
       "      <td>4078</td>\n",
       "      <td>OWNER</td>\n",
       "    </tr>\n",
       "    <tr>\n",
       "      <th>3</th>\n",
       "      <td>70</td>\n",
       "      <td>439</td>\n",
       "      <td>classic</td>\n",
       "      <td>940208 00:00:00</td>\n",
       "      <td>439</td>\n",
       "      <td>361</td>\n",
       "      <td>OWNER</td>\n",
       "    </tr>\n",
       "    <tr>\n",
       "      <th>4</th>\n",
       "      <td>577</td>\n",
       "      <td>3687</td>\n",
       "      <td>classic</td>\n",
       "      <td>940215 00:00:00</td>\n",
       "      <td>3687</td>\n",
       "      <td>3050</td>\n",
       "      <td>OWNER</td>\n",
       "    </tr>\n",
       "  </tbody>\n",
       "</table>\n",
       "</div>"
      ],
      "text/plain": [
       "   card_id  disp_id   type_x           issued  client_id  account_id type_y\n",
       "0     1005     9285  classic  931107 00:00:00       9593        7753  OWNER\n",
       "1      104      588  classic  940119 00:00:00        588         489  OWNER\n",
       "2      747     4915  classic  940205 00:00:00       4915        4078  OWNER\n",
       "3       70      439  classic  940208 00:00:00        439         361  OWNER\n",
       "4      577     3687  classic  940215 00:00:00       3687        3050  OWNER"
      ]
     },
     "execution_count": 19,
     "metadata": {},
     "output_type": "execute_result"
    }
   ],
   "source": [
    "cc_dsp=pd.merge(cardasc,dispasc,on=\"disp_id\")\n",
    "print(cc_dsp.shape)\n",
    "cc_dsp.head()"
   ]
  },
  {
   "cell_type": "markdown",
   "id": "b9bc45fa",
   "metadata": {},
   "source": [
    "### Extracting client_sex and client_age from client dataset from birth_number column"
   ]
  },
  {
   "cell_type": "code",
   "execution_count": 20,
   "id": "30a9eb83",
   "metadata": {},
   "outputs": [],
   "source": [
    "clientasc[\"birth_number\"]=clientasc[\"birth_number\"].astype(str)"
   ]
  },
  {
   "cell_type": "code",
   "execution_count": 21,
   "id": "d00e7a36",
   "metadata": {},
   "outputs": [],
   "source": [
    "clientasc['client_sex'] = [\"F\" if x > 12 else \"M\" for x in clientasc['birth_number'].str.slice(2, 4).astype(int)]"
   ]
  },
  {
   "cell_type": "code",
   "execution_count": 22,
   "id": "d96a4e87",
   "metadata": {},
   "outputs": [],
   "source": [
    "clientasc['birth_number'] = [int(x)-5000 if  int(x[2:4]) > 12 else int(x) for x in clientasc['birth_number']]"
   ]
  },
  {
   "cell_type": "code",
   "execution_count": 23,
   "id": "19ec17ba",
   "metadata": {},
   "outputs": [],
   "source": [
    "clientasc[\"birth_number\"]=pd.to_datetime(clientasc['birth_number'], format='%y%m%d')"
   ]
  },
  {
   "cell_type": "code",
   "execution_count": 24,
   "id": "6a27a9df",
   "metadata": {},
   "outputs": [],
   "source": [
    "clientasc['birth_number'] = np.where(clientasc['birth_number'].dt.year > 2000, clientasc['birth_number'] - pd.offsets.DateOffset(years=100), clientasc['birth_number'])"
   ]
  },
  {
   "cell_type": "code",
   "execution_count": 25,
   "id": "554678f0",
   "metadata": {},
   "outputs": [],
   "source": [
    "clientasc[\"birth_number\"]=clientasc[\"birth_number\"].dt.year"
   ]
  },
  {
   "cell_type": "code",
   "execution_count": 26,
   "id": "4b4d24ac",
   "metadata": {},
   "outputs": [],
   "source": [
    "clientasc[\"client_age\"]=2021-clientasc['birth_number']"
   ]
  },
  {
   "cell_type": "code",
   "execution_count": 27,
   "id": "4b2665b7",
   "metadata": {},
   "outputs": [
    {
     "data": {
      "text/html": [
       "<div>\n",
       "<style scoped>\n",
       "    .dataframe tbody tr th:only-of-type {\n",
       "        vertical-align: middle;\n",
       "    }\n",
       "\n",
       "    .dataframe tbody tr th {\n",
       "        vertical-align: top;\n",
       "    }\n",
       "\n",
       "    .dataframe thead th {\n",
       "        text-align: right;\n",
       "    }\n",
       "</style>\n",
       "<table border=\"1\" class=\"dataframe\">\n",
       "  <thead>\n",
       "    <tr style=\"text-align: right;\">\n",
       "      <th></th>\n",
       "      <th>client_id</th>\n",
       "      <th>district_id</th>\n",
       "      <th>client_sex</th>\n",
       "      <th>client_age</th>\n",
       "    </tr>\n",
       "  </thead>\n",
       "  <tbody>\n",
       "    <tr>\n",
       "      <th>0</th>\n",
       "      <td>1</td>\n",
       "      <td>18</td>\n",
       "      <td>F</td>\n",
       "      <td>51</td>\n",
       "    </tr>\n",
       "    <tr>\n",
       "      <th>1</th>\n",
       "      <td>2</td>\n",
       "      <td>1</td>\n",
       "      <td>M</td>\n",
       "      <td>76</td>\n",
       "    </tr>\n",
       "    <tr>\n",
       "      <th>2</th>\n",
       "      <td>3</td>\n",
       "      <td>1</td>\n",
       "      <td>F</td>\n",
       "      <td>81</td>\n",
       "    </tr>\n",
       "    <tr>\n",
       "      <th>3</th>\n",
       "      <td>4</td>\n",
       "      <td>5</td>\n",
       "      <td>M</td>\n",
       "      <td>65</td>\n",
       "    </tr>\n",
       "    <tr>\n",
       "      <th>4</th>\n",
       "      <td>5</td>\n",
       "      <td>5</td>\n",
       "      <td>F</td>\n",
       "      <td>61</td>\n",
       "    </tr>\n",
       "    <tr>\n",
       "      <th>...</th>\n",
       "      <td>...</td>\n",
       "      <td>...</td>\n",
       "      <td>...</td>\n",
       "      <td>...</td>\n",
       "    </tr>\n",
       "    <tr>\n",
       "      <th>5364</th>\n",
       "      <td>13955</td>\n",
       "      <td>1</td>\n",
       "      <td>F</td>\n",
       "      <td>76</td>\n",
       "    </tr>\n",
       "    <tr>\n",
       "      <th>5365</th>\n",
       "      <td>13956</td>\n",
       "      <td>1</td>\n",
       "      <td>M</td>\n",
       "      <td>78</td>\n",
       "    </tr>\n",
       "    <tr>\n",
       "      <th>5366</th>\n",
       "      <td>13968</td>\n",
       "      <td>61</td>\n",
       "      <td>M</td>\n",
       "      <td>53</td>\n",
       "    </tr>\n",
       "    <tr>\n",
       "      <th>5367</th>\n",
       "      <td>13971</td>\n",
       "      <td>67</td>\n",
       "      <td>F</td>\n",
       "      <td>59</td>\n",
       "    </tr>\n",
       "    <tr>\n",
       "      <th>5368</th>\n",
       "      <td>13998</td>\n",
       "      <td>74</td>\n",
       "      <td>F</td>\n",
       "      <td>68</td>\n",
       "    </tr>\n",
       "  </tbody>\n",
       "</table>\n",
       "<p>5369 rows × 4 columns</p>\n",
       "</div>"
      ],
      "text/plain": [
       "      client_id  district_id client_sex  client_age\n",
       "0             1           18          F          51\n",
       "1             2            1          M          76\n",
       "2             3            1          F          81\n",
       "3             4            5          M          65\n",
       "4             5            5          F          61\n",
       "...         ...          ...        ...         ...\n",
       "5364      13955            1          F          76\n",
       "5365      13956            1          M          78\n",
       "5366      13968           61          M          53\n",
       "5367      13971           67          F          59\n",
       "5368      13998           74          F          68\n",
       "\n",
       "[5369 rows x 4 columns]"
      ]
     },
     "execution_count": 27,
     "metadata": {},
     "output_type": "execute_result"
    }
   ],
   "source": [
    "clientasc.drop(\"birth_number\",axis=1,inplace=True)\n",
    "clientasc"
   ]
  },
  {
   "cell_type": "markdown",
   "id": "31ddd2ea",
   "metadata": {},
   "source": [
    "#### Discretized value derived from BirthNumber attribute\n",
    "Values:\n",
    "\n",
    "1 = YOUTH (0 - 24)\n",
    "\n",
    "2 = ADULT (24 - 35)\n",
    "\n",
    "3 = MIDDLE-AGE (36 - 64)\n",
    "\n",
    "4 = SENIOR (65 - *)"
   ]
  },
  {
   "cell_type": "code",
   "execution_count": 28,
   "id": "d05bb273",
   "metadata": {},
   "outputs": [],
   "source": [
    "criteria = [clientasc['client_age'].between(0, 24), clientasc['client_age'].between(25, 36), clientasc['client_age'].between(37, 64),clientasc[\"client_age\"].between(65,max(clientasc[\"client_age\"]))]\n",
    "values = [1, 2, 3,4]"
   ]
  },
  {
   "cell_type": "code",
   "execution_count": 29,
   "id": "c4896f8d",
   "metadata": {},
   "outputs": [],
   "source": [
    "clientasc['client_age'] = np.select(criteria, values, 0)"
   ]
  },
  {
   "cell_type": "code",
   "execution_count": 30,
   "id": "ae3a277e",
   "metadata": {},
   "outputs": [
    {
     "data": {
      "text/html": [
       "<div>\n",
       "<style scoped>\n",
       "    .dataframe tbody tr th:only-of-type {\n",
       "        vertical-align: middle;\n",
       "    }\n",
       "\n",
       "    .dataframe tbody tr th {\n",
       "        vertical-align: top;\n",
       "    }\n",
       "\n",
       "    .dataframe thead th {\n",
       "        text-align: right;\n",
       "    }\n",
       "</style>\n",
       "<table border=\"1\" class=\"dataframe\">\n",
       "  <thead>\n",
       "    <tr style=\"text-align: right;\">\n",
       "      <th></th>\n",
       "      <th>client_id</th>\n",
       "      <th>district_id</th>\n",
       "      <th>client_sex</th>\n",
       "      <th>client_age</th>\n",
       "    </tr>\n",
       "  </thead>\n",
       "  <tbody>\n",
       "    <tr>\n",
       "      <th>0</th>\n",
       "      <td>1</td>\n",
       "      <td>18</td>\n",
       "      <td>F</td>\n",
       "      <td>3</td>\n",
       "    </tr>\n",
       "    <tr>\n",
       "      <th>1</th>\n",
       "      <td>2</td>\n",
       "      <td>1</td>\n",
       "      <td>M</td>\n",
       "      <td>4</td>\n",
       "    </tr>\n",
       "    <tr>\n",
       "      <th>2</th>\n",
       "      <td>3</td>\n",
       "      <td>1</td>\n",
       "      <td>F</td>\n",
       "      <td>4</td>\n",
       "    </tr>\n",
       "    <tr>\n",
       "      <th>3</th>\n",
       "      <td>4</td>\n",
       "      <td>5</td>\n",
       "      <td>M</td>\n",
       "      <td>4</td>\n",
       "    </tr>\n",
       "    <tr>\n",
       "      <th>4</th>\n",
       "      <td>5</td>\n",
       "      <td>5</td>\n",
       "      <td>F</td>\n",
       "      <td>3</td>\n",
       "    </tr>\n",
       "    <tr>\n",
       "      <th>...</th>\n",
       "      <td>...</td>\n",
       "      <td>...</td>\n",
       "      <td>...</td>\n",
       "      <td>...</td>\n",
       "    </tr>\n",
       "    <tr>\n",
       "      <th>5364</th>\n",
       "      <td>13955</td>\n",
       "      <td>1</td>\n",
       "      <td>F</td>\n",
       "      <td>4</td>\n",
       "    </tr>\n",
       "    <tr>\n",
       "      <th>5365</th>\n",
       "      <td>13956</td>\n",
       "      <td>1</td>\n",
       "      <td>M</td>\n",
       "      <td>4</td>\n",
       "    </tr>\n",
       "    <tr>\n",
       "      <th>5366</th>\n",
       "      <td>13968</td>\n",
       "      <td>61</td>\n",
       "      <td>M</td>\n",
       "      <td>3</td>\n",
       "    </tr>\n",
       "    <tr>\n",
       "      <th>5367</th>\n",
       "      <td>13971</td>\n",
       "      <td>67</td>\n",
       "      <td>F</td>\n",
       "      <td>3</td>\n",
       "    </tr>\n",
       "    <tr>\n",
       "      <th>5368</th>\n",
       "      <td>13998</td>\n",
       "      <td>74</td>\n",
       "      <td>F</td>\n",
       "      <td>4</td>\n",
       "    </tr>\n",
       "  </tbody>\n",
       "</table>\n",
       "<p>5369 rows × 4 columns</p>\n",
       "</div>"
      ],
      "text/plain": [
       "      client_id  district_id client_sex  client_age\n",
       "0             1           18          F           3\n",
       "1             2            1          M           4\n",
       "2             3            1          F           4\n",
       "3             4            5          M           4\n",
       "4             5            5          F           3\n",
       "...         ...          ...        ...         ...\n",
       "5364      13955            1          F           4\n",
       "5365      13956            1          M           4\n",
       "5366      13968           61          M           3\n",
       "5367      13971           67          F           3\n",
       "5368      13998           74          F           4\n",
       "\n",
       "[5369 rows x 4 columns]"
      ]
     },
     "execution_count": 30,
     "metadata": {},
     "output_type": "execute_result"
    }
   ],
   "source": [
    "clientasc"
   ]
  },
  {
   "cell_type": "markdown",
   "id": "1fad282b",
   "metadata": {},
   "source": [
    "### Categorizing male as 1 and female as 0¶"
   ]
  },
  {
   "cell_type": "code",
   "execution_count": 31,
   "id": "66e2d0fd",
   "metadata": {},
   "outputs": [],
   "source": [
    "clientasc['client_sex'] = clientasc['client_sex'].map({'M': 1,'F': 0})"
   ]
  },
  {
   "cell_type": "code",
   "execution_count": 32,
   "id": "4e7bd16f",
   "metadata": {},
   "outputs": [
    {
     "data": {
      "text/html": [
       "<div>\n",
       "<style scoped>\n",
       "    .dataframe tbody tr th:only-of-type {\n",
       "        vertical-align: middle;\n",
       "    }\n",
       "\n",
       "    .dataframe tbody tr th {\n",
       "        vertical-align: top;\n",
       "    }\n",
       "\n",
       "    .dataframe thead th {\n",
       "        text-align: right;\n",
       "    }\n",
       "</style>\n",
       "<table border=\"1\" class=\"dataframe\">\n",
       "  <thead>\n",
       "    <tr style=\"text-align: right;\">\n",
       "      <th></th>\n",
       "      <th>client_id</th>\n",
       "      <th>district_id</th>\n",
       "      <th>client_sex</th>\n",
       "      <th>client_age</th>\n",
       "    </tr>\n",
       "  </thead>\n",
       "  <tbody>\n",
       "    <tr>\n",
       "      <th>0</th>\n",
       "      <td>1</td>\n",
       "      <td>18</td>\n",
       "      <td>0</td>\n",
       "      <td>3</td>\n",
       "    </tr>\n",
       "    <tr>\n",
       "      <th>1</th>\n",
       "      <td>2</td>\n",
       "      <td>1</td>\n",
       "      <td>1</td>\n",
       "      <td>4</td>\n",
       "    </tr>\n",
       "    <tr>\n",
       "      <th>2</th>\n",
       "      <td>3</td>\n",
       "      <td>1</td>\n",
       "      <td>0</td>\n",
       "      <td>4</td>\n",
       "    </tr>\n",
       "    <tr>\n",
       "      <th>3</th>\n",
       "      <td>4</td>\n",
       "      <td>5</td>\n",
       "      <td>1</td>\n",
       "      <td>4</td>\n",
       "    </tr>\n",
       "    <tr>\n",
       "      <th>4</th>\n",
       "      <td>5</td>\n",
       "      <td>5</td>\n",
       "      <td>0</td>\n",
       "      <td>3</td>\n",
       "    </tr>\n",
       "    <tr>\n",
       "      <th>...</th>\n",
       "      <td>...</td>\n",
       "      <td>...</td>\n",
       "      <td>...</td>\n",
       "      <td>...</td>\n",
       "    </tr>\n",
       "    <tr>\n",
       "      <th>5364</th>\n",
       "      <td>13955</td>\n",
       "      <td>1</td>\n",
       "      <td>0</td>\n",
       "      <td>4</td>\n",
       "    </tr>\n",
       "    <tr>\n",
       "      <th>5365</th>\n",
       "      <td>13956</td>\n",
       "      <td>1</td>\n",
       "      <td>1</td>\n",
       "      <td>4</td>\n",
       "    </tr>\n",
       "    <tr>\n",
       "      <th>5366</th>\n",
       "      <td>13968</td>\n",
       "      <td>61</td>\n",
       "      <td>1</td>\n",
       "      <td>3</td>\n",
       "    </tr>\n",
       "    <tr>\n",
       "      <th>5367</th>\n",
       "      <td>13971</td>\n",
       "      <td>67</td>\n",
       "      <td>0</td>\n",
       "      <td>3</td>\n",
       "    </tr>\n",
       "    <tr>\n",
       "      <th>5368</th>\n",
       "      <td>13998</td>\n",
       "      <td>74</td>\n",
       "      <td>0</td>\n",
       "      <td>4</td>\n",
       "    </tr>\n",
       "  </tbody>\n",
       "</table>\n",
       "<p>5369 rows × 4 columns</p>\n",
       "</div>"
      ],
      "text/plain": [
       "      client_id  district_id  client_sex  client_age\n",
       "0             1           18           0           3\n",
       "1             2            1           1           4\n",
       "2             3            1           0           4\n",
       "3             4            5           1           4\n",
       "4             5            5           0           3\n",
       "...         ...          ...         ...         ...\n",
       "5364      13955            1           0           4\n",
       "5365      13956            1           1           4\n",
       "5366      13968           61           1           3\n",
       "5367      13971           67           0           3\n",
       "5368      13998           74           0           4\n",
       "\n",
       "[5369 rows x 4 columns]"
      ]
     },
     "execution_count": 32,
     "metadata": {},
     "output_type": "execute_result"
    }
   ],
   "source": [
    "clientasc"
   ]
  },
  {
   "cell_type": "markdown",
   "id": "a7a606aa",
   "metadata": {},
   "source": [
    "### Combining client dataset with new combined dataset containing credit card and disposition based on client id\n"
   ]
  },
  {
   "cell_type": "code",
   "execution_count": 33,
   "id": "740000c4",
   "metadata": {},
   "outputs": [],
   "source": [
    "cc_dsp_client=pd.merge(clientasc,cc_dsp,on=\"client_id\")"
   ]
  },
  {
   "cell_type": "code",
   "execution_count": 34,
   "id": "70bb0446",
   "metadata": {},
   "outputs": [
    {
     "name": "stdout",
     "output_type": "stream",
     "text": [
      "(892, 10)\n"
     ]
    },
    {
     "data": {
      "text/html": [
       "<div>\n",
       "<style scoped>\n",
       "    .dataframe tbody tr th:only-of-type {\n",
       "        vertical-align: middle;\n",
       "    }\n",
       "\n",
       "    .dataframe tbody tr th {\n",
       "        vertical-align: top;\n",
       "    }\n",
       "\n",
       "    .dataframe thead th {\n",
       "        text-align: right;\n",
       "    }\n",
       "</style>\n",
       "<table border=\"1\" class=\"dataframe\">\n",
       "  <thead>\n",
       "    <tr style=\"text-align: right;\">\n",
       "      <th></th>\n",
       "      <th>client_id</th>\n",
       "      <th>district_id</th>\n",
       "      <th>client_sex</th>\n",
       "      <th>client_age</th>\n",
       "      <th>card_id</th>\n",
       "      <th>disp_id</th>\n",
       "      <th>type_x</th>\n",
       "      <th>issued</th>\n",
       "      <th>account_id</th>\n",
       "      <th>type_y</th>\n",
       "    </tr>\n",
       "  </thead>\n",
       "  <tbody>\n",
       "    <tr>\n",
       "      <th>0</th>\n",
       "      <td>9</td>\n",
       "      <td>60</td>\n",
       "      <td>1</td>\n",
       "      <td>4</td>\n",
       "      <td>1</td>\n",
       "      <td>9</td>\n",
       "      <td>gold</td>\n",
       "      <td>981016 00:00:00</td>\n",
       "      <td>7</td>\n",
       "      <td>OWNER</td>\n",
       "    </tr>\n",
       "    <tr>\n",
       "      <th>1</th>\n",
       "      <td>19</td>\n",
       "      <td>47</td>\n",
       "      <td>1</td>\n",
       "      <td>4</td>\n",
       "      <td>2</td>\n",
       "      <td>19</td>\n",
       "      <td>classic</td>\n",
       "      <td>980313 00:00:00</td>\n",
       "      <td>14</td>\n",
       "      <td>OWNER</td>\n",
       "    </tr>\n",
       "    <tr>\n",
       "      <th>2</th>\n",
       "      <td>41</td>\n",
       "      <td>22</td>\n",
       "      <td>1</td>\n",
       "      <td>3</td>\n",
       "      <td>3</td>\n",
       "      <td>41</td>\n",
       "      <td>gold</td>\n",
       "      <td>950903 00:00:00</td>\n",
       "      <td>33</td>\n",
       "      <td>OWNER</td>\n",
       "    </tr>\n",
       "    <tr>\n",
       "      <th>3</th>\n",
       "      <td>42</td>\n",
       "      <td>68</td>\n",
       "      <td>1</td>\n",
       "      <td>4</td>\n",
       "      <td>4</td>\n",
       "      <td>42</td>\n",
       "      <td>classic</td>\n",
       "      <td>981126 00:00:00</td>\n",
       "      <td>34</td>\n",
       "      <td>OWNER</td>\n",
       "    </tr>\n",
       "    <tr>\n",
       "      <th>4</th>\n",
       "      <td>51</td>\n",
       "      <td>36</td>\n",
       "      <td>0</td>\n",
       "      <td>3</td>\n",
       "      <td>5</td>\n",
       "      <td>51</td>\n",
       "      <td>junior</td>\n",
       "      <td>950424 00:00:00</td>\n",
       "      <td>43</td>\n",
       "      <td>OWNER</td>\n",
       "    </tr>\n",
       "  </tbody>\n",
       "</table>\n",
       "</div>"
      ],
      "text/plain": [
       "   client_id  district_id  client_sex  client_age  card_id  disp_id   type_x  \\\n",
       "0          9           60           1           4        1        9     gold   \n",
       "1         19           47           1           4        2       19  classic   \n",
       "2         41           22           1           3        3       41     gold   \n",
       "3         42           68           1           4        4       42  classic   \n",
       "4         51           36           0           3        5       51   junior   \n",
       "\n",
       "            issued  account_id type_y  \n",
       "0  981016 00:00:00           7  OWNER  \n",
       "1  980313 00:00:00          14  OWNER  \n",
       "2  950903 00:00:00          33  OWNER  \n",
       "3  981126 00:00:00          34  OWNER  \n",
       "4  950424 00:00:00          43  OWNER  "
      ]
     },
     "execution_count": 34,
     "metadata": {},
     "output_type": "execute_result"
    }
   ],
   "source": [
    "print(cc_dsp_client.shape)\n",
    "cc_dsp_client.head()"
   ]
  },
  {
   "cell_type": "markdown",
   "id": "313dd341",
   "metadata": {},
   "source": [
    "### Combining combined datset of (account,loan,transaction,district) with combined dataset (disposition,credit card,client) on the basis of district id"
   ]
  },
  {
   "cell_type": "code",
   "execution_count": 35,
   "id": "094516da",
   "metadata": {},
   "outputs": [],
   "source": [
    "final_merge=pd.merge(cc_dsp_client,acc_ln_tr_dst,on=\"district_id\")"
   ]
  },
  {
   "cell_type": "code",
   "execution_count": 36,
   "id": "92510c1d",
   "metadata": {},
   "outputs": [
    {
     "data": {
      "text/html": [
       "<div>\n",
       "<style scoped>\n",
       "    .dataframe tbody tr th:only-of-type {\n",
       "        vertical-align: middle;\n",
       "    }\n",
       "\n",
       "    .dataframe tbody tr th {\n",
       "        vertical-align: top;\n",
       "    }\n",
       "\n",
       "    .dataframe thead th {\n",
       "        text-align: right;\n",
       "    }\n",
       "</style>\n",
       "<table border=\"1\" class=\"dataframe\">\n",
       "  <thead>\n",
       "    <tr style=\"text-align: right;\">\n",
       "      <th></th>\n",
       "      <th>client_id</th>\n",
       "      <th>district_id</th>\n",
       "      <th>client_sex</th>\n",
       "      <th>client_age</th>\n",
       "      <th>card_id</th>\n",
       "      <th>disp_id</th>\n",
       "      <th>type_x</th>\n",
       "      <th>issued</th>\n",
       "      <th>account_id_x</th>\n",
       "      <th>type_y</th>\n",
       "      <th>...</th>\n",
       "      <th>status</th>\n",
       "      <th>trans_id</th>\n",
       "      <th>date_y</th>\n",
       "      <th>type</th>\n",
       "      <th>operation</th>\n",
       "      <th>amount_y</th>\n",
       "      <th>balance</th>\n",
       "      <th>k_symbol</th>\n",
       "      <th>bank</th>\n",
       "      <th>account</th>\n",
       "    </tr>\n",
       "  </thead>\n",
       "  <tbody>\n",
       "    <tr>\n",
       "      <th>0</th>\n",
       "      <td>9</td>\n",
       "      <td>60</td>\n",
       "      <td>1</td>\n",
       "      <td>4</td>\n",
       "      <td>1</td>\n",
       "      <td>9</td>\n",
       "      <td>gold</td>\n",
       "      <td>981016 00:00:00</td>\n",
       "      <td>7</td>\n",
       "      <td>OWNER</td>\n",
       "      <td>...</td>\n",
       "      <td>A</td>\n",
       "      <td>894500</td>\n",
       "      <td>930508</td>\n",
       "      <td>PRIJEM</td>\n",
       "      <td>VKLAD</td>\n",
       "      <td>900.0</td>\n",
       "      <td>900.0</td>\n",
       "      <td>NaN</td>\n",
       "      <td>NaN</td>\n",
       "      <td>NaN</td>\n",
       "    </tr>\n",
       "    <tr>\n",
       "      <th>1</th>\n",
       "      <td>9</td>\n",
       "      <td>60</td>\n",
       "      <td>1</td>\n",
       "      <td>4</td>\n",
       "      <td>1</td>\n",
       "      <td>9</td>\n",
       "      <td>gold</td>\n",
       "      <td>981016 00:00:00</td>\n",
       "      <td>7</td>\n",
       "      <td>OWNER</td>\n",
       "      <td>...</td>\n",
       "      <td>A</td>\n",
       "      <td>895068</td>\n",
       "      <td>930607</td>\n",
       "      <td>PRIJEM</td>\n",
       "      <td>VKLAD</td>\n",
       "      <td>10500.0</td>\n",
       "      <td>11400.0</td>\n",
       "      <td>NaN</td>\n",
       "      <td>NaN</td>\n",
       "      <td>NaN</td>\n",
       "    </tr>\n",
       "    <tr>\n",
       "      <th>2</th>\n",
       "      <td>9</td>\n",
       "      <td>60</td>\n",
       "      <td>1</td>\n",
       "      <td>4</td>\n",
       "      <td>1</td>\n",
       "      <td>9</td>\n",
       "      <td>gold</td>\n",
       "      <td>981016 00:00:00</td>\n",
       "      <td>7</td>\n",
       "      <td>OWNER</td>\n",
       "      <td>...</td>\n",
       "      <td>A</td>\n",
       "      <td>894506</td>\n",
       "      <td>930608</td>\n",
       "      <td>PRIJEM</td>\n",
       "      <td>PREVOD Z UCTU</td>\n",
       "      <td>62168.0</td>\n",
       "      <td>73568.0</td>\n",
       "      <td>NaN</td>\n",
       "      <td>GH</td>\n",
       "      <td>69871258.0</td>\n",
       "    </tr>\n",
       "    <tr>\n",
       "      <th>3</th>\n",
       "      <td>9</td>\n",
       "      <td>60</td>\n",
       "      <td>1</td>\n",
       "      <td>4</td>\n",
       "      <td>1</td>\n",
       "      <td>9</td>\n",
       "      <td>gold</td>\n",
       "      <td>981016 00:00:00</td>\n",
       "      <td>7</td>\n",
       "      <td>OWNER</td>\n",
       "      <td>...</td>\n",
       "      <td>A</td>\n",
       "      <td>3631314</td>\n",
       "      <td>930630</td>\n",
       "      <td>PRIJEM</td>\n",
       "      <td>NaN</td>\n",
       "      <td>235.0</td>\n",
       "      <td>73803.0</td>\n",
       "      <td>UROK</td>\n",
       "      <td>NaN</td>\n",
       "      <td>NaN</td>\n",
       "    </tr>\n",
       "    <tr>\n",
       "      <th>4</th>\n",
       "      <td>9</td>\n",
       "      <td>60</td>\n",
       "      <td>1</td>\n",
       "      <td>4</td>\n",
       "      <td>1</td>\n",
       "      <td>9</td>\n",
       "      <td>gold</td>\n",
       "      <td>981016 00:00:00</td>\n",
       "      <td>7</td>\n",
       "      <td>OWNER</td>\n",
       "      <td>...</td>\n",
       "      <td>A</td>\n",
       "      <td>895069</td>\n",
       "      <td>930707</td>\n",
       "      <td>VYDAJ</td>\n",
       "      <td>VYBER</td>\n",
       "      <td>22600.0</td>\n",
       "      <td>51203.0</td>\n",
       "      <td>NaN</td>\n",
       "      <td>NaN</td>\n",
       "      <td>NaN</td>\n",
       "    </tr>\n",
       "    <tr>\n",
       "      <th>...</th>\n",
       "      <td>...</td>\n",
       "      <td>...</td>\n",
       "      <td>...</td>\n",
       "      <td>...</td>\n",
       "      <td>...</td>\n",
       "      <td>...</td>\n",
       "      <td>...</td>\n",
       "      <td>...</td>\n",
       "      <td>...</td>\n",
       "      <td>...</td>\n",
       "      <td>...</td>\n",
       "      <td>...</td>\n",
       "      <td>...</td>\n",
       "      <td>...</td>\n",
       "      <td>...</td>\n",
       "      <td>...</td>\n",
       "      <td>...</td>\n",
       "      <td>...</td>\n",
       "      <td>...</td>\n",
       "      <td>...</td>\n",
       "      <td>...</td>\n",
       "    </tr>\n",
       "    <tr>\n",
       "      <th>5209377</th>\n",
       "      <td>4832</td>\n",
       "      <td>56</td>\n",
       "      <td>0</td>\n",
       "      <td>3</td>\n",
       "      <td>741</td>\n",
       "      <td>4832</td>\n",
       "      <td>classic</td>\n",
       "      <td>960911 00:00:00</td>\n",
       "      <td>4009</td>\n",
       "      <td>OWNER</td>\n",
       "      <td>...</td>\n",
       "      <td>C</td>\n",
       "      <td>387917</td>\n",
       "      <td>981212</td>\n",
       "      <td>VYDAJ</td>\n",
       "      <td>PREVOD NA UCET</td>\n",
       "      <td>2015.0</td>\n",
       "      <td>4559.9</td>\n",
       "      <td>POJISTNE</td>\n",
       "      <td>MN</td>\n",
       "      <td>13490295.0</td>\n",
       "    </tr>\n",
       "    <tr>\n",
       "      <th>5209378</th>\n",
       "      <td>4832</td>\n",
       "      <td>56</td>\n",
       "      <td>0</td>\n",
       "      <td>3</td>\n",
       "      <td>741</td>\n",
       "      <td>4832</td>\n",
       "      <td>classic</td>\n",
       "      <td>960911 00:00:00</td>\n",
       "      <td>4009</td>\n",
       "      <td>OWNER</td>\n",
       "      <td>...</td>\n",
       "      <td>C</td>\n",
       "      <td>387845</td>\n",
       "      <td>981212</td>\n",
       "      <td>VYDAJ</td>\n",
       "      <td>PREVOD NA UCET</td>\n",
       "      <td>5154.0</td>\n",
       "      <td>6574.9</td>\n",
       "      <td>UVER</td>\n",
       "      <td>ST</td>\n",
       "      <td>77757256.0</td>\n",
       "    </tr>\n",
       "    <tr>\n",
       "      <th>5209379</th>\n",
       "      <td>4832</td>\n",
       "      <td>56</td>\n",
       "      <td>0</td>\n",
       "      <td>3</td>\n",
       "      <td>741</td>\n",
       "      <td>4832</td>\n",
       "      <td>classic</td>\n",
       "      <td>960911 00:00:00</td>\n",
       "      <td>4009</td>\n",
       "      <td>OWNER</td>\n",
       "      <td>...</td>\n",
       "      <td>C</td>\n",
       "      <td>388023</td>\n",
       "      <td>981217</td>\n",
       "      <td>PRIJEM</td>\n",
       "      <td>VKLAD</td>\n",
       "      <td>15000.0</td>\n",
       "      <td>19559.9</td>\n",
       "      <td>NaN</td>\n",
       "      <td>NaN</td>\n",
       "      <td>NaN</td>\n",
       "    </tr>\n",
       "    <tr>\n",
       "      <th>5209380</th>\n",
       "      <td>4832</td>\n",
       "      <td>56</td>\n",
       "      <td>0</td>\n",
       "      <td>3</td>\n",
       "      <td>741</td>\n",
       "      <td>4832</td>\n",
       "      <td>classic</td>\n",
       "      <td>960911 00:00:00</td>\n",
       "      <td>4009</td>\n",
       "      <td>OWNER</td>\n",
       "      <td>...</td>\n",
       "      <td>C</td>\n",
       "      <td>387818</td>\n",
       "      <td>981226</td>\n",
       "      <td>PRIJEM</td>\n",
       "      <td>VKLAD</td>\n",
       "      <td>14557.0</td>\n",
       "      <td>34116.9</td>\n",
       "      <td>NaN</td>\n",
       "      <td>NaN</td>\n",
       "      <td>NaN</td>\n",
       "    </tr>\n",
       "    <tr>\n",
       "      <th>5209381</th>\n",
       "      <td>4832</td>\n",
       "      <td>56</td>\n",
       "      <td>0</td>\n",
       "      <td>3</td>\n",
       "      <td>741</td>\n",
       "      <td>4832</td>\n",
       "      <td>classic</td>\n",
       "      <td>960911 00:00:00</td>\n",
       "      <td>4009</td>\n",
       "      <td>OWNER</td>\n",
       "      <td>...</td>\n",
       "      <td>C</td>\n",
       "      <td>3573977</td>\n",
       "      <td>981231</td>\n",
       "      <td>PRIJEM</td>\n",
       "      <td>NaN</td>\n",
       "      <td>79.7</td>\n",
       "      <td>34196.7</td>\n",
       "      <td>UROK</td>\n",
       "      <td>NaN</td>\n",
       "      <td>NaN</td>\n",
       "    </tr>\n",
       "  </tbody>\n",
       "</table>\n",
       "<p>5209382 rows × 27 columns</p>\n",
       "</div>"
      ],
      "text/plain": [
       "         client_id  district_id  client_sex  client_age  card_id  disp_id  \\\n",
       "0                9           60           1           4        1        9   \n",
       "1                9           60           1           4        1        9   \n",
       "2                9           60           1           4        1        9   \n",
       "3                9           60           1           4        1        9   \n",
       "4                9           60           1           4        1        9   \n",
       "...            ...          ...         ...         ...      ...      ...   \n",
       "5209377       4832           56           0           3      741     4832   \n",
       "5209378       4832           56           0           3      741     4832   \n",
       "5209379       4832           56           0           3      741     4832   \n",
       "5209380       4832           56           0           3      741     4832   \n",
       "5209381       4832           56           0           3      741     4832   \n",
       "\n",
       "          type_x           issued  account_id_x type_y  ...  status trans_id  \\\n",
       "0           gold  981016 00:00:00             7  OWNER  ...       A   894500   \n",
       "1           gold  981016 00:00:00             7  OWNER  ...       A   895068   \n",
       "2           gold  981016 00:00:00             7  OWNER  ...       A   894506   \n",
       "3           gold  981016 00:00:00             7  OWNER  ...       A  3631314   \n",
       "4           gold  981016 00:00:00             7  OWNER  ...       A   895069   \n",
       "...          ...              ...           ...    ...  ...     ...      ...   \n",
       "5209377  classic  960911 00:00:00          4009  OWNER  ...       C   387917   \n",
       "5209378  classic  960911 00:00:00          4009  OWNER  ...       C   387845   \n",
       "5209379  classic  960911 00:00:00          4009  OWNER  ...       C   388023   \n",
       "5209380  classic  960911 00:00:00          4009  OWNER  ...       C   387818   \n",
       "5209381  classic  960911 00:00:00          4009  OWNER  ...       C  3573977   \n",
       "\n",
       "         date_y    type       operation  amount_y  balance  k_symbol  bank  \\\n",
       "0        930508  PRIJEM           VKLAD     900.0    900.0       NaN   NaN   \n",
       "1        930607  PRIJEM           VKLAD   10500.0  11400.0       NaN   NaN   \n",
       "2        930608  PRIJEM   PREVOD Z UCTU   62168.0  73568.0       NaN    GH   \n",
       "3        930630  PRIJEM             NaN     235.0  73803.0      UROK   NaN   \n",
       "4        930707   VYDAJ           VYBER   22600.0  51203.0       NaN   NaN   \n",
       "...         ...     ...             ...       ...      ...       ...   ...   \n",
       "5209377  981212   VYDAJ  PREVOD NA UCET    2015.0   4559.9  POJISTNE    MN   \n",
       "5209378  981212   VYDAJ  PREVOD NA UCET    5154.0   6574.9      UVER    ST   \n",
       "5209379  981217  PRIJEM           VKLAD   15000.0  19559.9       NaN   NaN   \n",
       "5209380  981226  PRIJEM           VKLAD   14557.0  34116.9       NaN   NaN   \n",
       "5209381  981231  PRIJEM             NaN      79.7  34196.7      UROK   NaN   \n",
       "\n",
       "            account  \n",
       "0               NaN  \n",
       "1               NaN  \n",
       "2        69871258.0  \n",
       "3               NaN  \n",
       "4               NaN  \n",
       "...             ...  \n",
       "5209377  13490295.0  \n",
       "5209378  77757256.0  \n",
       "5209379         NaN  \n",
       "5209380         NaN  \n",
       "5209381         NaN  \n",
       "\n",
       "[5209382 rows x 27 columns]"
      ]
     },
     "execution_count": 36,
     "metadata": {},
     "output_type": "execute_result"
    }
   ],
   "source": [
    "final_merge"
   ]
  },
  {
   "cell_type": "code",
   "execution_count": 37,
   "id": "49117b86",
   "metadata": {},
   "outputs": [
    {
     "data": {
      "text/plain": [
       "Index(['client_id', 'district_id', 'client_sex', 'client_age', 'card_id',\n",
       "       'disp_id', 'type_x', 'issued', 'account_id_x', 'type_y', 'account_id_y',\n",
       "       'frequency', 'loan_id', 'date_x', 'amount_x', 'duration', 'payments',\n",
       "       'status', 'trans_id', 'date_y', 'type', 'operation', 'amount_y',\n",
       "       'balance', 'k_symbol', 'bank', 'account'],\n",
       "      dtype='object')"
      ]
     },
     "execution_count": 37,
     "metadata": {},
     "output_type": "execute_result"
    }
   ],
   "source": [
    "final_merge.columns"
   ]
  },
  {
   "cell_type": "markdown",
   "id": "0faeb813",
   "metadata": {},
   "source": [
    "### After combining all dataset we have we have got 27 column but we have extracted only those columns which was said by our team lead"
   ]
  },
  {
   "cell_type": "code",
   "execution_count": 38,
   "id": "00ea01ec",
   "metadata": {},
   "outputs": [],
   "source": [
    "df=final_merge[[\"frequency\",'client_age','district_id',\"client_sex\",\"status\",\"balance\",\"type_x\"]]"
   ]
  },
  {
   "cell_type": "code",
   "execution_count": 39,
   "id": "d86f87d0",
   "metadata": {},
   "outputs": [
    {
     "data": {
      "text/html": [
       "<div>\n",
       "<style scoped>\n",
       "    .dataframe tbody tr th:only-of-type {\n",
       "        vertical-align: middle;\n",
       "    }\n",
       "\n",
       "    .dataframe tbody tr th {\n",
       "        vertical-align: top;\n",
       "    }\n",
       "\n",
       "    .dataframe thead th {\n",
       "        text-align: right;\n",
       "    }\n",
       "</style>\n",
       "<table border=\"1\" class=\"dataframe\">\n",
       "  <thead>\n",
       "    <tr style=\"text-align: right;\">\n",
       "      <th></th>\n",
       "      <th>frequency</th>\n",
       "      <th>client_age</th>\n",
       "      <th>district_id</th>\n",
       "      <th>client_sex</th>\n",
       "      <th>status</th>\n",
       "      <th>balance</th>\n",
       "      <th>type_x</th>\n",
       "    </tr>\n",
       "  </thead>\n",
       "  <tbody>\n",
       "    <tr>\n",
       "      <th>0</th>\n",
       "      <td>MI</td>\n",
       "      <td>4</td>\n",
       "      <td>60</td>\n",
       "      <td>1</td>\n",
       "      <td>A</td>\n",
       "      <td>900.0</td>\n",
       "      <td>gold</td>\n",
       "    </tr>\n",
       "    <tr>\n",
       "      <th>1</th>\n",
       "      <td>MI</td>\n",
       "      <td>4</td>\n",
       "      <td>60</td>\n",
       "      <td>1</td>\n",
       "      <td>A</td>\n",
       "      <td>11400.0</td>\n",
       "      <td>gold</td>\n",
       "    </tr>\n",
       "    <tr>\n",
       "      <th>2</th>\n",
       "      <td>MI</td>\n",
       "      <td>4</td>\n",
       "      <td>60</td>\n",
       "      <td>1</td>\n",
       "      <td>A</td>\n",
       "      <td>73568.0</td>\n",
       "      <td>gold</td>\n",
       "    </tr>\n",
       "    <tr>\n",
       "      <th>3</th>\n",
       "      <td>MI</td>\n",
       "      <td>4</td>\n",
       "      <td>60</td>\n",
       "      <td>1</td>\n",
       "      <td>A</td>\n",
       "      <td>73803.0</td>\n",
       "      <td>gold</td>\n",
       "    </tr>\n",
       "    <tr>\n",
       "      <th>4</th>\n",
       "      <td>MI</td>\n",
       "      <td>4</td>\n",
       "      <td>60</td>\n",
       "      <td>1</td>\n",
       "      <td>A</td>\n",
       "      <td>51203.0</td>\n",
       "      <td>gold</td>\n",
       "    </tr>\n",
       "    <tr>\n",
       "      <th>...</th>\n",
       "      <td>...</td>\n",
       "      <td>...</td>\n",
       "      <td>...</td>\n",
       "      <td>...</td>\n",
       "      <td>...</td>\n",
       "      <td>...</td>\n",
       "      <td>...</td>\n",
       "    </tr>\n",
       "    <tr>\n",
       "      <th>5209377</th>\n",
       "      <td>MI</td>\n",
       "      <td>3</td>\n",
       "      <td>56</td>\n",
       "      <td>0</td>\n",
       "      <td>C</td>\n",
       "      <td>4559.9</td>\n",
       "      <td>classic</td>\n",
       "    </tr>\n",
       "    <tr>\n",
       "      <th>5209378</th>\n",
       "      <td>MI</td>\n",
       "      <td>3</td>\n",
       "      <td>56</td>\n",
       "      <td>0</td>\n",
       "      <td>C</td>\n",
       "      <td>6574.9</td>\n",
       "      <td>classic</td>\n",
       "    </tr>\n",
       "    <tr>\n",
       "      <th>5209379</th>\n",
       "      <td>MI</td>\n",
       "      <td>3</td>\n",
       "      <td>56</td>\n",
       "      <td>0</td>\n",
       "      <td>C</td>\n",
       "      <td>19559.9</td>\n",
       "      <td>classic</td>\n",
       "    </tr>\n",
       "    <tr>\n",
       "      <th>5209380</th>\n",
       "      <td>MI</td>\n",
       "      <td>3</td>\n",
       "      <td>56</td>\n",
       "      <td>0</td>\n",
       "      <td>C</td>\n",
       "      <td>34116.9</td>\n",
       "      <td>classic</td>\n",
       "    </tr>\n",
       "    <tr>\n",
       "      <th>5209381</th>\n",
       "      <td>MI</td>\n",
       "      <td>3</td>\n",
       "      <td>56</td>\n",
       "      <td>0</td>\n",
       "      <td>C</td>\n",
       "      <td>34196.7</td>\n",
       "      <td>classic</td>\n",
       "    </tr>\n",
       "  </tbody>\n",
       "</table>\n",
       "<p>5209382 rows × 7 columns</p>\n",
       "</div>"
      ],
      "text/plain": [
       "        frequency  client_age  district_id  client_sex status  balance  \\\n",
       "0              MI           4           60           1      A    900.0   \n",
       "1              MI           4           60           1      A  11400.0   \n",
       "2              MI           4           60           1      A  73568.0   \n",
       "3              MI           4           60           1      A  73803.0   \n",
       "4              MI           4           60           1      A  51203.0   \n",
       "...           ...         ...          ...         ...    ...      ...   \n",
       "5209377        MI           3           56           0      C   4559.9   \n",
       "5209378        MI           3           56           0      C   6574.9   \n",
       "5209379        MI           3           56           0      C  19559.9   \n",
       "5209380        MI           3           56           0      C  34116.9   \n",
       "5209381        MI           3           56           0      C  34196.7   \n",
       "\n",
       "          type_x  \n",
       "0           gold  \n",
       "1           gold  \n",
       "2           gold  \n",
       "3           gold  \n",
       "4           gold  \n",
       "...          ...  \n",
       "5209377  classic  \n",
       "5209378  classic  \n",
       "5209379  classic  \n",
       "5209380  classic  \n",
       "5209381  classic  \n",
       "\n",
       "[5209382 rows x 7 columns]"
      ]
     },
     "execution_count": 39,
     "metadata": {},
     "output_type": "execute_result"
    }
   ],
   "source": [
    "df"
   ]
  },
  {
   "cell_type": "markdown",
   "id": "6bc9b5ec",
   "metadata": {},
   "source": [
    "### Here our output feature is status and rest are independent that's why we have categorized status based on the\n",
    "Status of loan pay-off\n",
    "\n",
    "'A' = Contract finished, no problems\n",
    "\n",
    "'B' = Contract finished, loan not payed\n",
    "\n",
    "'C' = Contract running, OK thus-far\n",
    "\n",
    "'D' = Contract running, client in debt\n",
    "\n",
    "Here we categorized (A and C) as 1 and (B and D) as 0"
   ]
  },
  {
   "cell_type": "code",
   "execution_count": 40,
   "id": "97067316",
   "metadata": {},
   "outputs": [
    {
     "name": "stderr",
     "output_type": "stream",
     "text": [
      "/home/ec2-user/anaconda3/envs/tensorflow2_p36/lib/python3.6/site-packages/ipykernel/__main__.py:1: SettingWithCopyWarning: \n",
      "A value is trying to be set on a copy of a slice from a DataFrame.\n",
      "Try using .loc[row_indexer,col_indexer] = value instead\n",
      "\n",
      "See the caveats in the documentation: https://pandas.pydata.org/pandas-docs/stable/user_guide/indexing.html#returning-a-view-versus-a-copy\n",
      "  if __name__ == '__main__':\n"
     ]
    }
   ],
   "source": [
    "df['status'] = df['status'].map({'A': 1,'C': 1,'B':0,'D':0})"
   ]
  },
  {
   "cell_type": "code",
   "execution_count": 41,
   "id": "4eeeb756",
   "metadata": {},
   "outputs": [],
   "source": [
    "import scipy.stats as stat\n",
    "import pylab "
   ]
  },
  {
   "cell_type": "markdown",
   "id": "f281bd07",
   "metadata": {},
   "source": [
    "### Checking for normal distribution on the balance feature"
   ]
  },
  {
   "cell_type": "code",
   "execution_count": 42,
   "id": "e9b4785f",
   "metadata": {},
   "outputs": [],
   "source": [
    "def plot_data(df,feature):\n",
    "    plt.figure(figsize=(10,6))\n",
    "    plt.subplot(1,2,1)\n",
    "    df[feature].hist()\n",
    "    plt.subplot(1,2,2)\n",
    "    stat.probplot(df[feature],dist='norm',plot=pylab)\n",
    "    plt.show()"
   ]
  },
  {
   "cell_type": "code",
   "execution_count": 43,
   "id": "9eed7309",
   "metadata": {},
   "outputs": [
    {
     "data": {
      "image/png": "[encoded data removed]",
      "text/plain": [
       "<Figure size 720x432 with 2 Axes>"
      ]
     },
     "metadata": {
      "needs_background": "light"
     },
     "output_type": "display_data"
    }
   ],
   "source": [
    "plot_data(df,'balance')"
   ]
  },
  {
   "cell_type": "markdown",
   "id": "5b42e760",
   "metadata": {},
   "source": [
    "### As balance feature shows normal distribution there is no need to do any extra work for transformation¶"
   ]
  },
  {
   "cell_type": "code",
   "execution_count": 44,
   "id": "544f18ab",
   "metadata": {},
   "outputs": [
    {
     "data": {
      "text/html": [
       "<div>\n",
       "<style scoped>\n",
       "    .dataframe tbody tr th:only-of-type {\n",
       "        vertical-align: middle;\n",
       "    }\n",
       "\n",
       "    .dataframe tbody tr th {\n",
       "        vertical-align: top;\n",
       "    }\n",
       "\n",
       "    .dataframe thead th {\n",
       "        text-align: right;\n",
       "    }\n",
       "</style>\n",
       "<table border=\"1\" class=\"dataframe\">\n",
       "  <thead>\n",
       "    <tr style=\"text-align: right;\">\n",
       "      <th></th>\n",
       "      <th>frequency</th>\n",
       "      <th>client_age</th>\n",
       "      <th>district_id</th>\n",
       "      <th>client_sex</th>\n",
       "      <th>status</th>\n",
       "      <th>balance</th>\n",
       "      <th>type_x</th>\n",
       "    </tr>\n",
       "  </thead>\n",
       "  <tbody>\n",
       "    <tr>\n",
       "      <th>0</th>\n",
       "      <td>MI</td>\n",
       "      <td>4</td>\n",
       "      <td>60</td>\n",
       "      <td>1</td>\n",
       "      <td>1</td>\n",
       "      <td>900.0</td>\n",
       "      <td>gold</td>\n",
       "    </tr>\n",
       "    <tr>\n",
       "      <th>1</th>\n",
       "      <td>MI</td>\n",
       "      <td>4</td>\n",
       "      <td>60</td>\n",
       "      <td>1</td>\n",
       "      <td>1</td>\n",
       "      <td>11400.0</td>\n",
       "      <td>gold</td>\n",
       "    </tr>\n",
       "    <tr>\n",
       "      <th>2</th>\n",
       "      <td>MI</td>\n",
       "      <td>4</td>\n",
       "      <td>60</td>\n",
       "      <td>1</td>\n",
       "      <td>1</td>\n",
       "      <td>73568.0</td>\n",
       "      <td>gold</td>\n",
       "    </tr>\n",
       "    <tr>\n",
       "      <th>3</th>\n",
       "      <td>MI</td>\n",
       "      <td>4</td>\n",
       "      <td>60</td>\n",
       "      <td>1</td>\n",
       "      <td>1</td>\n",
       "      <td>73803.0</td>\n",
       "      <td>gold</td>\n",
       "    </tr>\n",
       "    <tr>\n",
       "      <th>4</th>\n",
       "      <td>MI</td>\n",
       "      <td>4</td>\n",
       "      <td>60</td>\n",
       "      <td>1</td>\n",
       "      <td>1</td>\n",
       "      <td>51203.0</td>\n",
       "      <td>gold</td>\n",
       "    </tr>\n",
       "    <tr>\n",
       "      <th>...</th>\n",
       "      <td>...</td>\n",
       "      <td>...</td>\n",
       "      <td>...</td>\n",
       "      <td>...</td>\n",
       "      <td>...</td>\n",
       "      <td>...</td>\n",
       "      <td>...</td>\n",
       "    </tr>\n",
       "    <tr>\n",
       "      <th>5209377</th>\n",
       "      <td>MI</td>\n",
       "      <td>3</td>\n",
       "      <td>56</td>\n",
       "      <td>0</td>\n",
       "      <td>1</td>\n",
       "      <td>4559.9</td>\n",
       "      <td>classic</td>\n",
       "    </tr>\n",
       "    <tr>\n",
       "      <th>5209378</th>\n",
       "      <td>MI</td>\n",
       "      <td>3</td>\n",
       "      <td>56</td>\n",
       "      <td>0</td>\n",
       "      <td>1</td>\n",
       "      <td>6574.9</td>\n",
       "      <td>classic</td>\n",
       "    </tr>\n",
       "    <tr>\n",
       "      <th>5209379</th>\n",
       "      <td>MI</td>\n",
       "      <td>3</td>\n",
       "      <td>56</td>\n",
       "      <td>0</td>\n",
       "      <td>1</td>\n",
       "      <td>19559.9</td>\n",
       "      <td>classic</td>\n",
       "    </tr>\n",
       "    <tr>\n",
       "      <th>5209380</th>\n",
       "      <td>MI</td>\n",
       "      <td>3</td>\n",
       "      <td>56</td>\n",
       "      <td>0</td>\n",
       "      <td>1</td>\n",
       "      <td>34116.9</td>\n",
       "      <td>classic</td>\n",
       "    </tr>\n",
       "    <tr>\n",
       "      <th>5209381</th>\n",
       "      <td>MI</td>\n",
       "      <td>3</td>\n",
       "      <td>56</td>\n",
       "      <td>0</td>\n",
       "      <td>1</td>\n",
       "      <td>34196.7</td>\n",
       "      <td>classic</td>\n",
       "    </tr>\n",
       "  </tbody>\n",
       "</table>\n",
       "<p>5209382 rows × 7 columns</p>\n",
       "</div>"
      ],
      "text/plain": [
       "        frequency  client_age  district_id  client_sex  status  balance  \\\n",
       "0              MI           4           60           1       1    900.0   \n",
       "1              MI           4           60           1       1  11400.0   \n",
       "2              MI           4           60           1       1  73568.0   \n",
       "3              MI           4           60           1       1  73803.0   \n",
       "4              MI           4           60           1       1  51203.0   \n",
       "...           ...         ...          ...         ...     ...      ...   \n",
       "5209377        MI           3           56           0       1   4559.9   \n",
       "5209378        MI           3           56           0       1   6574.9   \n",
       "5209379        MI           3           56           0       1  19559.9   \n",
       "5209380        MI           3           56           0       1  34116.9   \n",
       "5209381        MI           3           56           0       1  34196.7   \n",
       "\n",
       "          type_x  \n",
       "0           gold  \n",
       "1           gold  \n",
       "2           gold  \n",
       "3           gold  \n",
       "4           gold  \n",
       "...          ...  \n",
       "5209377  classic  \n",
       "5209378  classic  \n",
       "5209379  classic  \n",
       "5209380  classic  \n",
       "5209381  classic  \n",
       "\n",
       "[5209382 rows x 7 columns]"
      ]
     },
     "execution_count": 44,
     "metadata": {},
     "output_type": "execute_result"
    }
   ],
   "source": [
    "df"
   ]
  },
  {
   "cell_type": "markdown",
   "id": "e9a26e36",
   "metadata": {},
   "source": [
    "### Applying one hot encoding on all categorical column(frequency & card type)"
   ]
  },
  {
   "cell_type": "code",
   "execution_count": 45,
   "id": "34876cfb",
   "metadata": {},
   "outputs": [],
   "source": [
    "dum_df = pd.get_dummies(df, columns=[\"frequency\"])"
   ]
  },
  {
   "cell_type": "code",
   "execution_count": 46,
   "id": "7b9e78a6",
   "metadata": {},
   "outputs": [
    {
     "data": {
      "text/html": [
       "<div>\n",
       "<style scoped>\n",
       "    .dataframe tbody tr th:only-of-type {\n",
       "        vertical-align: middle;\n",
       "    }\n",
       "\n",
       "    .dataframe tbody tr th {\n",
       "        vertical-align: top;\n",
       "    }\n",
       "\n",
       "    .dataframe thead th {\n",
       "        text-align: right;\n",
       "    }\n",
       "</style>\n",
       "<table border=\"1\" class=\"dataframe\">\n",
       "  <thead>\n",
       "    <tr style=\"text-align: right;\">\n",
       "      <th></th>\n",
       "      <th>client_age</th>\n",
       "      <th>district_id</th>\n",
       "      <th>client_sex</th>\n",
       "      <th>status</th>\n",
       "      <th>balance</th>\n",
       "      <th>frequency_MI</th>\n",
       "      <th>frequency_TI</th>\n",
       "      <th>frequency_WI</th>\n",
       "      <th>type_x_classic</th>\n",
       "      <th>type_x_gold</th>\n",
       "      <th>type_x_junior</th>\n",
       "    </tr>\n",
       "  </thead>\n",
       "  <tbody>\n",
       "    <tr>\n",
       "      <th>0</th>\n",
       "      <td>4</td>\n",
       "      <td>60</td>\n",
       "      <td>1</td>\n",
       "      <td>1</td>\n",
       "      <td>900.0</td>\n",
       "      <td>1</td>\n",
       "      <td>0</td>\n",
       "      <td>0</td>\n",
       "      <td>0</td>\n",
       "      <td>1</td>\n",
       "      <td>0</td>\n",
       "    </tr>\n",
       "    <tr>\n",
       "      <th>1</th>\n",
       "      <td>4</td>\n",
       "      <td>60</td>\n",
       "      <td>1</td>\n",
       "      <td>1</td>\n",
       "      <td>11400.0</td>\n",
       "      <td>1</td>\n",
       "      <td>0</td>\n",
       "      <td>0</td>\n",
       "      <td>0</td>\n",
       "      <td>1</td>\n",
       "      <td>0</td>\n",
       "    </tr>\n",
       "    <tr>\n",
       "      <th>2</th>\n",
       "      <td>4</td>\n",
       "      <td>60</td>\n",
       "      <td>1</td>\n",
       "      <td>1</td>\n",
       "      <td>73568.0</td>\n",
       "      <td>1</td>\n",
       "      <td>0</td>\n",
       "      <td>0</td>\n",
       "      <td>0</td>\n",
       "      <td>1</td>\n",
       "      <td>0</td>\n",
       "    </tr>\n",
       "    <tr>\n",
       "      <th>3</th>\n",
       "      <td>4</td>\n",
       "      <td>60</td>\n",
       "      <td>1</td>\n",
       "      <td>1</td>\n",
       "      <td>73803.0</td>\n",
       "      <td>1</td>\n",
       "      <td>0</td>\n",
       "      <td>0</td>\n",
       "      <td>0</td>\n",
       "      <td>1</td>\n",
       "      <td>0</td>\n",
       "    </tr>\n",
       "    <tr>\n",
       "      <th>4</th>\n",
       "      <td>4</td>\n",
       "      <td>60</td>\n",
       "      <td>1</td>\n",
       "      <td>1</td>\n",
       "      <td>51203.0</td>\n",
       "      <td>1</td>\n",
       "      <td>0</td>\n",
       "      <td>0</td>\n",
       "      <td>0</td>\n",
       "      <td>1</td>\n",
       "      <td>0</td>\n",
       "    </tr>\n",
       "    <tr>\n",
       "      <th>...</th>\n",
       "      <td>...</td>\n",
       "      <td>...</td>\n",
       "      <td>...</td>\n",
       "      <td>...</td>\n",
       "      <td>...</td>\n",
       "      <td>...</td>\n",
       "      <td>...</td>\n",
       "      <td>...</td>\n",
       "      <td>...</td>\n",
       "      <td>...</td>\n",
       "      <td>...</td>\n",
       "    </tr>\n",
       "    <tr>\n",
       "      <th>5209377</th>\n",
       "      <td>3</td>\n",
       "      <td>56</td>\n",
       "      <td>0</td>\n",
       "      <td>1</td>\n",
       "      <td>4559.9</td>\n",
       "      <td>1</td>\n",
       "      <td>0</td>\n",
       "      <td>0</td>\n",
       "      <td>1</td>\n",
       "      <td>0</td>\n",
       "      <td>0</td>\n",
       "    </tr>\n",
       "    <tr>\n",
       "      <th>5209378</th>\n",
       "      <td>3</td>\n",
       "      <td>56</td>\n",
       "      <td>0</td>\n",
       "      <td>1</td>\n",
       "      <td>6574.9</td>\n",
       "      <td>1</td>\n",
       "      <td>0</td>\n",
       "      <td>0</td>\n",
       "      <td>1</td>\n",
       "      <td>0</td>\n",
       "      <td>0</td>\n",
       "    </tr>\n",
       "    <tr>\n",
       "      <th>5209379</th>\n",
       "      <td>3</td>\n",
       "      <td>56</td>\n",
       "      <td>0</td>\n",
       "      <td>1</td>\n",
       "      <td>19559.9</td>\n",
       "      <td>1</td>\n",
       "      <td>0</td>\n",
       "      <td>0</td>\n",
       "      <td>1</td>\n",
       "      <td>0</td>\n",
       "      <td>0</td>\n",
       "    </tr>\n",
       "    <tr>\n",
       "      <th>5209380</th>\n",
       "      <td>3</td>\n",
       "      <td>56</td>\n",
       "      <td>0</td>\n",
       "      <td>1</td>\n",
       "      <td>34116.9</td>\n",
       "      <td>1</td>\n",
       "      <td>0</td>\n",
       "      <td>0</td>\n",
       "      <td>1</td>\n",
       "      <td>0</td>\n",
       "      <td>0</td>\n",
       "    </tr>\n",
       "    <tr>\n",
       "      <th>5209381</th>\n",
       "      <td>3</td>\n",
       "      <td>56</td>\n",
       "      <td>0</td>\n",
       "      <td>1</td>\n",
       "      <td>34196.7</td>\n",
       "      <td>1</td>\n",
       "      <td>0</td>\n",
       "      <td>0</td>\n",
       "      <td>1</td>\n",
       "      <td>0</td>\n",
       "      <td>0</td>\n",
       "    </tr>\n",
       "  </tbody>\n",
       "</table>\n",
       "<p>5209382 rows × 11 columns</p>\n",
       "</div>"
      ],
      "text/plain": [
       "         client_age  district_id  client_sex  status  balance  frequency_MI  \\\n",
       "0                 4           60           1       1    900.0             1   \n",
       "1                 4           60           1       1  11400.0             1   \n",
       "2                 4           60           1       1  73568.0             1   \n",
       "3                 4           60           1       1  73803.0             1   \n",
       "4                 4           60           1       1  51203.0             1   \n",
       "...             ...          ...         ...     ...      ...           ...   \n",
       "5209377           3           56           0       1   4559.9             1   \n",
       "5209378           3           56           0       1   6574.9             1   \n",
       "5209379           3           56           0       1  19559.9             1   \n",
       "5209380           3           56           0       1  34116.9             1   \n",
       "5209381           3           56           0       1  34196.7             1   \n",
       "\n",
       "         frequency_TI  frequency_WI  type_x_classic  type_x_gold  \\\n",
       "0                   0             0               0            1   \n",
       "1                   0             0               0            1   \n",
       "2                   0             0               0            1   \n",
       "3                   0             0               0            1   \n",
       "4                   0             0               0            1   \n",
       "...               ...           ...             ...          ...   \n",
       "5209377             0             0               1            0   \n",
       "5209378             0             0               1            0   \n",
       "5209379             0             0               1            0   \n",
       "5209380             0             0               1            0   \n",
       "5209381             0             0               1            0   \n",
       "\n",
       "         type_x_junior  \n",
       "0                    0  \n",
       "1                    0  \n",
       "2                    0  \n",
       "3                    0  \n",
       "4                    0  \n",
       "...                ...  \n",
       "5209377              0  \n",
       "5209378              0  \n",
       "5209379              0  \n",
       "5209380              0  \n",
       "5209381              0  \n",
       "\n",
       "[5209382 rows x 11 columns]"
      ]
     },
     "execution_count": 46,
     "metadata": {},
     "output_type": "execute_result"
    }
   ],
   "source": [
    "df1= pd.get_dummies(dum_df, columns=[\"type_x\"])\n",
    "df1"
   ]
  },
  {
   "cell_type": "markdown",
   "id": "67b7c394",
   "metadata": {},
   "source": [
    "### Splitting independent and dependent features"
   ]
  },
  {
   "cell_type": "code",
   "execution_count": 47,
   "id": "e81b71e6",
   "metadata": {},
   "outputs": [],
   "source": [
    "X=df1.drop(\"status\",axis=1)"
   ]
  },
  {
   "cell_type": "markdown",
   "id": "ae4a93ea",
   "metadata": {},
   "source": [
    "#### This are independent features¶ "
   ]
  },
  {
   "cell_type": "code",
   "execution_count": 48,
   "id": "978a3536",
   "metadata": {},
   "outputs": [
    {
     "data": {
      "text/html": [
       "<div>\n",
       "<style scoped>\n",
       "    .dataframe tbody tr th:only-of-type {\n",
       "        vertical-align: middle;\n",
       "    }\n",
       "\n",
       "    .dataframe tbody tr th {\n",
       "        vertical-align: top;\n",
       "    }\n",
       "\n",
       "    .dataframe thead th {\n",
       "        text-align: right;\n",
       "    }\n",
       "</style>\n",
       "<table border=\"1\" class=\"dataframe\">\n",
       "  <thead>\n",
       "    <tr style=\"text-align: right;\">\n",
       "      <th></th>\n",
       "      <th>client_age</th>\n",
       "      <th>district_id</th>\n",
       "      <th>client_sex</th>\n",
       "      <th>balance</th>\n",
       "      <th>frequency_MI</th>\n",
       "      <th>frequency_TI</th>\n",
       "      <th>frequency_WI</th>\n",
       "      <th>type_x_classic</th>\n",
       "      <th>type_x_gold</th>\n",
       "      <th>type_x_junior</th>\n",
       "    </tr>\n",
       "  </thead>\n",
       "  <tbody>\n",
       "    <tr>\n",
       "      <th>0</th>\n",
       "      <td>4</td>\n",
       "      <td>60</td>\n",
       "      <td>1</td>\n",
       "      <td>900.0</td>\n",
       "      <td>1</td>\n",
       "      <td>0</td>\n",
       "      <td>0</td>\n",
       "      <td>0</td>\n",
       "      <td>1</td>\n",
       "      <td>0</td>\n",
       "    </tr>\n",
       "    <tr>\n",
       "      <th>1</th>\n",
       "      <td>4</td>\n",
       "      <td>60</td>\n",
       "      <td>1</td>\n",
       "      <td>11400.0</td>\n",
       "      <td>1</td>\n",
       "      <td>0</td>\n",
       "      <td>0</td>\n",
       "      <td>0</td>\n",
       "      <td>1</td>\n",
       "      <td>0</td>\n",
       "    </tr>\n",
       "    <tr>\n",
       "      <th>2</th>\n",
       "      <td>4</td>\n",
       "      <td>60</td>\n",
       "      <td>1</td>\n",
       "      <td>73568.0</td>\n",
       "      <td>1</td>\n",
       "      <td>0</td>\n",
       "      <td>0</td>\n",
       "      <td>0</td>\n",
       "      <td>1</td>\n",
       "      <td>0</td>\n",
       "    </tr>\n",
       "    <tr>\n",
       "      <th>3</th>\n",
       "      <td>4</td>\n",
       "      <td>60</td>\n",
       "      <td>1</td>\n",
       "      <td>73803.0</td>\n",
       "      <td>1</td>\n",
       "      <td>0</td>\n",
       "      <td>0</td>\n",
       "      <td>0</td>\n",
       "      <td>1</td>\n",
       "      <td>0</td>\n",
       "    </tr>\n",
       "    <tr>\n",
       "      <th>4</th>\n",
       "      <td>4</td>\n",
       "      <td>60</td>\n",
       "      <td>1</td>\n",
       "      <td>51203.0</td>\n",
       "      <td>1</td>\n",
       "      <td>0</td>\n",
       "      <td>0</td>\n",
       "      <td>0</td>\n",
       "      <td>1</td>\n",
       "      <td>0</td>\n",
       "    </tr>\n",
       "    <tr>\n",
       "      <th>...</th>\n",
       "      <td>...</td>\n",
       "      <td>...</td>\n",
       "      <td>...</td>\n",
       "      <td>...</td>\n",
       "      <td>...</td>\n",
       "      <td>...</td>\n",
       "      <td>...</td>\n",
       "      <td>...</td>\n",
       "      <td>...</td>\n",
       "      <td>...</td>\n",
       "    </tr>\n",
       "    <tr>\n",
       "      <th>5209377</th>\n",
       "      <td>3</td>\n",
       "      <td>56</td>\n",
       "      <td>0</td>\n",
       "      <td>4559.9</td>\n",
       "      <td>1</td>\n",
       "      <td>0</td>\n",
       "      <td>0</td>\n",
       "      <td>1</td>\n",
       "      <td>0</td>\n",
       "      <td>0</td>\n",
       "    </tr>\n",
       "    <tr>\n",
       "      <th>5209378</th>\n",
       "      <td>3</td>\n",
       "      <td>56</td>\n",
       "      <td>0</td>\n",
       "      <td>6574.9</td>\n",
       "      <td>1</td>\n",
       "      <td>0</td>\n",
       "      <td>0</td>\n",
       "      <td>1</td>\n",
       "      <td>0</td>\n",
       "      <td>0</td>\n",
       "    </tr>\n",
       "    <tr>\n",
       "      <th>5209379</th>\n",
       "      <td>3</td>\n",
       "      <td>56</td>\n",
       "      <td>0</td>\n",
       "      <td>19559.9</td>\n",
       "      <td>1</td>\n",
       "      <td>0</td>\n",
       "      <td>0</td>\n",
       "      <td>1</td>\n",
       "      <td>0</td>\n",
       "      <td>0</td>\n",
       "    </tr>\n",
       "    <tr>\n",
       "      <th>5209380</th>\n",
       "      <td>3</td>\n",
       "      <td>56</td>\n",
       "      <td>0</td>\n",
       "      <td>34116.9</td>\n",
       "      <td>1</td>\n",
       "      <td>0</td>\n",
       "      <td>0</td>\n",
       "      <td>1</td>\n",
       "      <td>0</td>\n",
       "      <td>0</td>\n",
       "    </tr>\n",
       "    <tr>\n",
       "      <th>5209381</th>\n",
       "      <td>3</td>\n",
       "      <td>56</td>\n",
       "      <td>0</td>\n",
       "      <td>34196.7</td>\n",
       "      <td>1</td>\n",
       "      <td>0</td>\n",
       "      <td>0</td>\n",
       "      <td>1</td>\n",
       "      <td>0</td>\n",
       "      <td>0</td>\n",
       "    </tr>\n",
       "  </tbody>\n",
       "</table>\n",
       "<p>5209382 rows × 10 columns</p>\n",
       "</div>"
      ],
      "text/plain": [
       "         client_age  district_id  client_sex  balance  frequency_MI  \\\n",
       "0                 4           60           1    900.0             1   \n",
       "1                 4           60           1  11400.0             1   \n",
       "2                 4           60           1  73568.0             1   \n",
       "3                 4           60           1  73803.0             1   \n",
       "4                 4           60           1  51203.0             1   \n",
       "...             ...          ...         ...      ...           ...   \n",
       "5209377           3           56           0   4559.9             1   \n",
       "5209378           3           56           0   6574.9             1   \n",
       "5209379           3           56           0  19559.9             1   \n",
       "5209380           3           56           0  34116.9             1   \n",
       "5209381           3           56           0  34196.7             1   \n",
       "\n",
       "         frequency_TI  frequency_WI  type_x_classic  type_x_gold  \\\n",
       "0                   0             0               0            1   \n",
       "1                   0             0               0            1   \n",
       "2                   0             0               0            1   \n",
       "3                   0             0               0            1   \n",
       "4                   0             0               0            1   \n",
       "...               ...           ...             ...          ...   \n",
       "5209377             0             0               1            0   \n",
       "5209378             0             0               1            0   \n",
       "5209379             0             0               1            0   \n",
       "5209380             0             0               1            0   \n",
       "5209381             0             0               1            0   \n",
       "\n",
       "         type_x_junior  \n",
       "0                    0  \n",
       "1                    0  \n",
       "2                    0  \n",
       "3                    0  \n",
       "4                    0  \n",
       "...                ...  \n",
       "5209377              0  \n",
       "5209378              0  \n",
       "5209379              0  \n",
       "5209380              0  \n",
       "5209381              0  \n",
       "\n",
       "[5209382 rows x 10 columns]"
      ]
     },
     "execution_count": 48,
     "metadata": {},
     "output_type": "execute_result"
    }
   ],
   "source": [
    "X"
   ]
  },
  {
   "cell_type": "code",
   "execution_count": 49,
   "id": "433b0839",
   "metadata": {},
   "outputs": [],
   "source": [
    "y=df1[\"status\"]"
   ]
  },
  {
   "cell_type": "markdown",
   "id": "0e5d7e9a",
   "metadata": {},
   "source": [
    "#### This is dependent feature"
   ]
  },
  {
   "cell_type": "code",
   "execution_count": 50,
   "id": "e33799a5",
   "metadata": {},
   "outputs": [
    {
     "data": {
      "text/plain": [
       "0          1\n",
       "1          1\n",
       "2          1\n",
       "3          1\n",
       "4          1\n",
       "          ..\n",
       "5209377    1\n",
       "5209378    1\n",
       "5209379    1\n",
       "5209380    1\n",
       "5209381    1\n",
       "Name: status, Length: 5209382, dtype: int64"
      ]
     },
     "execution_count": 50,
     "metadata": {},
     "output_type": "execute_result"
    }
   ],
   "source": [
    "y"
   ]
  },
  {
   "cell_type": "markdown",
   "id": "2a94c9cc",
   "metadata": {},
   "source": [
    "### Checking ouput feature if it is balanced or not"
   ]
  },
  {
   "cell_type": "code",
   "execution_count": 51,
   "id": "8695f6cc",
   "metadata": {},
   "outputs": [
    {
     "data": {
      "image/png": "[encoded data removed]",
      "text/plain": [
       "<Figure size 432x288 with 1 Axes>"
      ]
     },
     "metadata": {
      "needs_background": "light"
     },
     "output_type": "display_data"
    }
   ],
   "source": [
    "sns.countplot(x=\"status\", data=df1);"
   ]
  },
  {
   "cell_type": "markdown",
   "id": "9b7eadb5",
   "metadata": {},
   "source": [
    "### Here we found that our ouput feature is not balanced so we are perforing undersampling and upsampling to make our output feature balanced\n"
   ]
  },
  {
   "cell_type": "markdown",
   "id": "820f3237",
   "metadata": {},
   "source": [
    "### UnderSampling"
   ]
  },
  {
   "cell_type": "code",
   "execution_count": 52,
   "id": "5db0726f",
   "metadata": {},
   "outputs": [],
   "source": [
    "from imblearn.under_sampling import NearMiss"
   ]
  },
  {
   "cell_type": "code",
   "execution_count": 53,
   "id": "2e104ade",
   "metadata": {},
   "outputs": [],
   "source": [
    "nm = NearMiss()"
   ]
  },
  {
   "cell_type": "code",
   "execution_count": 54,
   "id": "afe87fb6",
   "metadata": {},
   "outputs": [],
   "source": [
    "X_res,y_res=nm.fit_resample(X,y)"
   ]
  },
  {
   "cell_type": "code",
   "execution_count": 55,
   "id": "90cbf128",
   "metadata": {},
   "outputs": [
    {
     "name": "stdout",
     "output_type": "stream",
     "text": [
      "Original dataset shape Counter({1: 4600117, 0: 609265})\n",
      "Resampled dataset shape Counter({0: 609265, 1: 609265})\n"
     ]
    }
   ],
   "source": [
    "from collections import Counter\n",
    "print('Original dataset shape {}'.format(Counter(y)))\n",
    "print('Resampled dataset shape {}'.format(Counter(y_res)))"
   ]
  },
  {
   "cell_type": "markdown",
   "id": "41ab6225",
   "metadata": {},
   "source": [
    "### Applying Logistic Regression on Undersampling"
   ]
  },
  {
   "cell_type": "code",
   "execution_count": 56,
   "id": "c66298ee",
   "metadata": {},
   "outputs": [],
   "source": [
    "from sklearn.linear_model import LogisticRegression\n",
    "from sklearn.metrics import accuracy_score,confusion_matrix,classification_report,roc_curve, roc_auc_score"
   ]
  },
  {
   "cell_type": "code",
   "execution_count": 57,
   "id": "179be57f",
   "metadata": {},
   "outputs": [],
   "source": [
    "from sklearn.model_selection import train_test_split\n",
    "X_train,X_test,y_train,y_test=train_test_split(X_res,y_res,train_size=0.7)\n"
   ]
  },
  {
   "cell_type": "code",
   "execution_count": 58,
   "id": "cc0ec09f",
   "metadata": {},
   "outputs": [
    {
     "data": {
      "text/plain": [
       "LogisticRegression()"
      ]
     },
     "execution_count": 58,
     "metadata": {},
     "output_type": "execute_result"
    }
   ],
   "source": [
    "log_reg = LogisticRegression()\n",
    "log_reg.fit(X_train,y_train)"
   ]
  },
  {
   "cell_type": "code",
   "execution_count": 59,
   "id": "b906963e",
   "metadata": {},
   "outputs": [
    {
     "name": "stdout",
     "output_type": "stream",
     "text": [
      "Training Accuracy of Logistic Regression on Undersampling\n",
      "[[158643 268018]\n",
      " [ 68542 357768]]\n",
      "0.6054262102697513\n",
      "              precision    recall  f1-score   support\n",
      "\n",
      "           0       0.70      0.37      0.49    426661\n",
      "           1       0.57      0.84      0.68    426310\n",
      "\n",
      "    accuracy                           0.61    852971\n",
      "   macro avg       0.64      0.61      0.58    852971\n",
      "weighted avg       0.64      0.61      0.58    852971\n",
      "\n"
     ]
    }
   ],
   "source": [
    "lrtr_pred=log_reg.predict(X_train)\n",
    "print(\"Training Accuracy of Logistic Regression on Undersampling\")\n",
    "print(confusion_matrix(y_train,lrtr_pred))\n",
    "print(accuracy_score(y_train,lrtr_pred))\n",
    "print(classification_report(y_train,lrtr_pred))"
   ]
  },
  {
   "cell_type": "code",
   "execution_count": 60,
   "id": "4e41c050",
   "metadata": {},
   "outputs": [
    {
     "name": "stdout",
     "output_type": "stream",
     "text": [
      "Testing Accuracy of Logistic Regression on Undersampling\n",
      "[[ 67776 114828]\n",
      " [ 29350 153605]]\n",
      "0.6055958135348877\n",
      "              precision    recall  f1-score   support\n",
      "\n",
      "           0       0.70      0.37      0.48    182604\n",
      "           1       0.57      0.84      0.68    182955\n",
      "\n",
      "    accuracy                           0.61    365559\n",
      "   macro avg       0.64      0.61      0.58    365559\n",
      "weighted avg       0.63      0.61      0.58    365559\n",
      "\n"
     ]
    }
   ],
   "source": [
    "lrts_pred=log_reg.predict(X_test)\n",
    "print(\"Testing Accuracy of Logistic Regression on Undersampling\")\n",
    "print(confusion_matrix(y_test,lrts_pred))\n",
    "print(accuracy_score(y_test,lrts_pred))\n",
    "print(classification_report(y_test,lrts_pred))"
   ]
  },
  {
   "cell_type": "markdown",
   "id": "2667e5b5",
   "metadata": {},
   "source": [
    "### Applying Decision Tree on Undersampling"
   ]
  },
  {
   "cell_type": "code",
   "execution_count": 61,
   "id": "4e71c4e0",
   "metadata": {},
   "outputs": [],
   "source": [
    "from sklearn.tree import DecisionTreeClassifier"
   ]
  },
  {
   "cell_type": "code",
   "execution_count": 62,
   "id": "34e68e72",
   "metadata": {},
   "outputs": [
    {
     "data": {
      "text/plain": [
       "DecisionTreeClassifier()"
      ]
     },
     "execution_count": 62,
     "metadata": {},
     "output_type": "execute_result"
    }
   ],
   "source": [
    "dtree = DecisionTreeClassifier()\n",
    "dtree.fit(X_train,y_train)"
   ]
  },
  {
   "cell_type": "code",
   "execution_count": 63,
   "id": "28971f40",
   "metadata": {},
   "outputs": [
    {
     "name": "stdout",
     "output_type": "stream",
     "text": [
      "Training Accuracy of Decision Tree on Undersampling\n",
      "[[424223   2438]\n",
      " [  2402 423908]]\n",
      "0.9943257156456667\n",
      "              precision    recall  f1-score   support\n",
      "\n",
      "           0       0.99      0.99      0.99    426661\n",
      "           1       0.99      0.99      0.99    426310\n",
      "\n",
      "    accuracy                           0.99    852971\n",
      "   macro avg       0.99      0.99      0.99    852971\n",
      "weighted avg       0.99      0.99      0.99    852971\n",
      "\n"
     ]
    }
   ],
   "source": [
    "dttr_pred=dtree.predict(X_train)\n",
    "print(\"Training Accuracy of Decision Tree on Undersampling\")\n",
    "print(confusion_matrix(y_train,dttr_pred))\n",
    "print(accuracy_score(y_train,dttr_pred))\n",
    "print(classification_report(y_train,dttr_pred))"
   ]
  },
  {
   "cell_type": "code",
   "execution_count": 64,
   "id": "c0c85ecc",
   "metadata": {},
   "outputs": [
    {
     "name": "stdout",
     "output_type": "stream",
     "text": [
      "Testing Accuracy of Decision Tree on Undersampling\n",
      "[[181038   1566]\n",
      " [  1349 181606]]\n",
      "0.9920259110020544\n",
      "              precision    recall  f1-score   support\n",
      "\n",
      "           0       0.99      0.99      0.99    182604\n",
      "           1       0.99      0.99      0.99    182955\n",
      "\n",
      "    accuracy                           0.99    365559\n",
      "   macro avg       0.99      0.99      0.99    365559\n",
      "weighted avg       0.99      0.99      0.99    365559\n",
      "\n"
     ]
    }
   ],
   "source": [
    "dtts_pred=dtree.predict(X_test)\n",
    "print(\"Testing Accuracy of Decision Tree on Undersampling\")\n",
    "print(confusion_matrix(y_test,dtts_pred))\n",
    "print(accuracy_score(y_test,dtts_pred))\n",
    "print(classification_report(y_test,dtts_pred))"
   ]
  },
  {
   "cell_type": "markdown",
   "id": "0375698d",
   "metadata": {},
   "source": [
    "### Applying Random Forest on Undersampling"
   ]
  },
  {
   "cell_type": "code",
   "execution_count": 65,
   "id": "ae5273f5",
   "metadata": {},
   "outputs": [
    {
     "data": {
      "text/plain": [
       "RandomForestClassifier(class_weight={0: 1, 1: 100})"
      ]
     },
     "execution_count": 65,
     "metadata": {},
     "output_type": "execute_result"
    }
   ],
   "source": [
    "class_weight=dict({0:1,1:100})\n",
    "from sklearn.ensemble import RandomForestClassifier\n",
    "rf=RandomForestClassifier(class_weight=class_weight)\n",
    "rf.fit(X_train,y_train)"
   ]
  },
  {
   "cell_type": "code",
   "execution_count": 66,
   "id": "16128ddf",
   "metadata": {},
   "outputs": [
    {
     "name": "stdout",
     "output_type": "stream",
     "text": [
      "Training Accuracy of Random Forest on Undersampling\n",
      "[[421407   5254]\n",
      " [    10 426300]]\n",
      "0.9938286295782623\n",
      "              precision    recall  f1-score   support\n",
      "\n",
      "           0       1.00      0.99      0.99    426661\n",
      "           1       0.99      1.00      0.99    426310\n",
      "\n",
      "    accuracy                           0.99    852971\n",
      "   macro avg       0.99      0.99      0.99    852971\n",
      "weighted avg       0.99      0.99      0.99    852971\n",
      "\n"
     ]
    }
   ],
   "source": [
    "rftr_pred=rf.predict(X_train)\n",
    "print(\"Training Accuracy of Random Forest on Undersampling\")\n",
    "print(confusion_matrix(y_train,rftr_pred))\n",
    "print(accuracy_score(y_train,rftr_pred))\n",
    "print(classification_report(y_train,rftr_pred))"
   ]
  },
  {
   "cell_type": "code",
   "execution_count": 67,
   "id": "274f6ae6",
   "metadata": {},
   "outputs": [
    {
     "name": "stdout",
     "output_type": "stream",
     "text": [
      "Testing Accuracy of Random Forest on Undersampling\n",
      "[[175849   6755]\n",
      " [  4147 178808]]\n",
      "0.9701771807013368\n",
      "              precision    recall  f1-score   support\n",
      "\n",
      "           0       0.98      0.96      0.97    182604\n",
      "           1       0.96      0.98      0.97    182955\n",
      "\n",
      "    accuracy                           0.97    365559\n",
      "   macro avg       0.97      0.97      0.97    365559\n",
      "weighted avg       0.97      0.97      0.97    365559\n",
      "\n"
     ]
    }
   ],
   "source": [
    "rfts_pred=rf.predict(X_test)\n",
    "print(\"Testing Accuracy of Random Forest on Undersampling\")\n",
    "print(confusion_matrix(y_test,rfts_pred))\n",
    "print(accuracy_score(y_test,rfts_pred))\n",
    "print(classification_report(y_test,rfts_pred))"
   ]
  },
  {
   "cell_type": "markdown",
   "id": "27d221ea",
   "metadata": {},
   "source": [
    "### ROC & AUC Curve on undersampling of all models of testing prediction"
   ]
  },
  {
   "cell_type": "code",
   "execution_count": 68,
   "id": "ddf5da3b",
   "metadata": {},
   "outputs": [
    {
     "data": {
      "image/png": "[encoded data removed]",
      "text/plain": [
       "<Figure size 500x500 with 1 Axes>"
      ]
     },
     "metadata": {
      "needs_background": "light"
     },
     "output_type": "display_data"
    }
   ],
   "source": [
    "from sklearn.metrics import roc_curve, auc\n",
    "\n",
    "logistic_fpr, logistic_tpr, threshold = roc_curve(y_test, lrts_pred)\n",
    "auc_logistic = auc(logistic_fpr, logistic_tpr)\n",
    "\n",
    "dt_fpr, dt_tpr, threshold = roc_curve(y_test, dtts_pred)\n",
    "auc_dt = auc(dt_fpr, dt_tpr)\n",
    "\n",
    "rf_fpr, rf_tpr, threshold = roc_curve(y_test, rfts_pred)\n",
    "auc_rf = auc(rf_fpr, rf_tpr)\n",
    "\n",
    "plt.figure(figsize=(5, 5), dpi=100)\n",
    "plt.plot(dt_fpr, dt_tpr, linestyle='-', label='Decision Tree (auc = %0.3f)' % auc_dt)\n",
    "plt.plot(logistic_fpr, logistic_tpr, marker='.', label='Logistic (auc = %0.3f)' % auc_logistic)\n",
    "plt.plot(rf_fpr, rf_tpr, linestyle='-', label='Random Forest (auc = %0.3f)' % auc_dt)\n",
    "\n",
    "plt.xlabel('False Positive Rate -->')\n",
    "plt.ylabel('True Positive Rate -->')\n",
    "\n",
    "plt.legend()\n",
    "\n",
    "plt.show()"
   ]
  },
  {
   "cell_type": "markdown",
   "id": "c4ff5bb3",
   "metadata": {},
   "source": [
    "### We have applied logistic regression,decision tree and random forest on undersampled dataset and we have found that decision tree and random forest has given very good accuracy"
   ]
  },
  {
   "cell_type": "markdown",
   "id": "6fe89564",
   "metadata": {},
   "source": [
    "### UpSampling"
   ]
  },
  {
   "cell_type": "code",
   "execution_count": 69,
   "id": "340ab8bb",
   "metadata": {},
   "outputs": [],
   "source": [
    "from imblearn.combine import SMOTETomek"
   ]
  },
  {
   "cell_type": "code",
   "execution_count": 70,
   "id": "961f956e",
   "metadata": {},
   "outputs": [],
   "source": [
    "smk = SMOTETomek(random_state=42)\n",
    "Xu_res,yu_res=smk.fit_resample(X,y)"
   ]
  },
  {
   "cell_type": "code",
   "execution_count": 71,
   "id": "8ab6963a",
   "metadata": {},
   "outputs": [
    {
     "name": "stdout",
     "output_type": "stream",
     "text": [
      "Original dataset shape Counter({1: 4600117, 0: 609265})\n",
      "Resampled dataset shape Counter({1: 4599754, 0: 4599754})\n"
     ]
    }
   ],
   "source": [
    "from collections import Counter\n",
    "print('Original dataset shape {}'.format(Counter(y)))\n",
    "print('Resampled dataset shape {}'.format(Counter(yu_res)))"
   ]
  },
  {
   "cell_type": "markdown",
   "id": "ff9808b7",
   "metadata": {},
   "source": [
    "### Applying Logistic Regression on Upsampling"
   ]
  },
  {
   "cell_type": "code",
   "execution_count": 72,
   "id": "5bd67b1c",
   "metadata": {},
   "outputs": [],
   "source": [
    "from sklearn.linear_model import LogisticRegression\n",
    "from sklearn.metrics import accuracy_score,confusion_matrix,classification_report,roc_curve, roc_auc_score"
   ]
  },
  {
   "cell_type": "code",
   "execution_count": 74,
   "id": "b1bbaba6",
   "metadata": {},
   "outputs": [],
   "source": [
    "from sklearn.model_selection import train_test_split\n",
    "X_train,X_test,y_train,y_test=train_test_split(Xu_res,yu_res,train_size=0.7)\n"
   ]
  },
  {
   "cell_type": "code",
   "execution_count": 75,
   "id": "cbcbcdec",
   "metadata": {},
   "outputs": [
    {
     "data": {
      "text/plain": [
       "LogisticRegression()"
      ]
     },
     "execution_count": 75,
     "metadata": {},
     "output_type": "execute_result"
    }
   ],
   "source": [
    "log_reg = LogisticRegression()\n",
    "log_reg.fit(X_train,y_train)"
   ]
  },
  {
   "cell_type": "code",
   "execution_count": 76,
   "id": "6e9e56db",
   "metadata": {},
   "outputs": [
    {
     "name": "stdout",
     "output_type": "stream",
     "text": [
      "Training Accuracy of Logistic Regression on Upsampling\n",
      "[[2029918 1189867]\n",
      " [1490471 1729399]]\n",
      "0.583776149498692\n",
      "              precision    recall  f1-score   support\n",
      "\n",
      "           0       0.58      0.63      0.60   3219785\n",
      "           1       0.59      0.54      0.56   3219870\n",
      "\n",
      "    accuracy                           0.58   6439655\n",
      "   macro avg       0.58      0.58      0.58   6439655\n",
      "weighted avg       0.58      0.58      0.58   6439655\n",
      "\n"
     ]
    }
   ],
   "source": [
    "lrtr_pred=log_reg.predict(X_train)\n",
    "print(\"Training Accuracy of Logistic Regression on Upsampling\")\n",
    "print(confusion_matrix(y_train,lrtr_pred))\n",
    "print(accuracy_score(y_train,lrtr_pred))\n",
    "print(classification_report(y_train,lrtr_pred))"
   ]
  },
  {
   "cell_type": "code",
   "execution_count": 77,
   "id": "33f9e232",
   "metadata": {},
   "outputs": [
    {
     "name": "stdout",
     "output_type": "stream",
     "text": [
      "Testing Accuracy of Logistic Regression on Upsampling\n",
      "[[869941 510028]\n",
      " [639521 740363]]\n",
      "0.583474554623018\n",
      "              precision    recall  f1-score   support\n",
      "\n",
      "           0       0.58      0.63      0.60   1379969\n",
      "           1       0.59      0.54      0.56   1379884\n",
      "\n",
      "    accuracy                           0.58   2759853\n",
      "   macro avg       0.58      0.58      0.58   2759853\n",
      "weighted avg       0.58      0.58      0.58   2759853\n",
      "\n"
     ]
    }
   ],
   "source": [
    "lrts_pred=log_reg.predict(X_test)\n",
    "print(\"Testing Accuracy of Logistic Regression on Upsampling\")\n",
    "print(confusion_matrix(y_test,lrts_pred))\n",
    "print(accuracy_score(y_test,lrts_pred))\n",
    "print(classification_report(y_test,lrts_pred))"
   ]
  },
  {
   "cell_type": "markdown",
   "id": "60d19e2f",
   "metadata": {},
   "source": [
    "### Applying Decision Tree on Upsampling"
   ]
  },
  {
   "cell_type": "code",
   "execution_count": 78,
   "id": "e44c1967",
   "metadata": {},
   "outputs": [],
   "source": [
    "from sklearn.tree import DecisionTreeClassifier"
   ]
  },
  {
   "cell_type": "code",
   "execution_count": 79,
   "id": "0b061fe0",
   "metadata": {},
   "outputs": [
    {
     "data": {
      "text/plain": [
       "DecisionTreeClassifier()"
      ]
     },
     "execution_count": 79,
     "metadata": {},
     "output_type": "execute_result"
    }
   ],
   "source": [
    "dtree = DecisionTreeClassifier()\n",
    "dtree.fit(X_train,y_train)"
   ]
  },
  {
   "cell_type": "code",
   "execution_count": 80,
   "id": "c53cc8f7",
   "metadata": {},
   "outputs": [
    {
     "name": "stdout",
     "output_type": "stream",
     "text": [
      "Training Accuracy of Decision Tree on Upsampling\n",
      "[[3219774      11]\n",
      " [   6842 3213028]]\n",
      "0.9989358125551757\n",
      "              precision    recall  f1-score   support\n",
      "\n",
      "           0       1.00      1.00      1.00   3219785\n",
      "           1       1.00      1.00      1.00   3219870\n",
      "\n",
      "    accuracy                           1.00   6439655\n",
      "   macro avg       1.00      1.00      1.00   6439655\n",
      "weighted avg       1.00      1.00      1.00   6439655\n",
      "\n"
     ]
    }
   ],
   "source": [
    "dttr_pred=dtree.predict(X_train)\n",
    "print(\"Training Accuracy of Decision Tree on Upsampling\")\n",
    "print(confusion_matrix(y_train,dttr_pred))\n",
    "print(accuracy_score(y_train,dttr_pred))\n",
    "print(classification_report(y_train,dttr_pred))"
   ]
  },
  {
   "cell_type": "code",
   "execution_count": 81,
   "id": "03ff3b63",
   "metadata": {},
   "outputs": [
    {
     "name": "stdout",
     "output_type": "stream",
     "text": [
      "Testing Accuracy of Decision Tree on Upsampling\n",
      "[[1375405    4564]\n",
      " [  12192 1367692]]\n",
      "0.9939286621425126\n",
      "              precision    recall  f1-score   support\n",
      "\n",
      "           0       0.99      1.00      0.99   1379969\n",
      "           1       1.00      0.99      0.99   1379884\n",
      "\n",
      "    accuracy                           0.99   2759853\n",
      "   macro avg       0.99      0.99      0.99   2759853\n",
      "weighted avg       0.99      0.99      0.99   2759853\n",
      "\n"
     ]
    }
   ],
   "source": [
    "dtts_pred=dtree.predict(X_test)\n",
    "print(\"Testing Accuracy of Decision Tree on Upsampling\")\n",
    "print(confusion_matrix(y_test,dtts_pred))\n",
    "print(accuracy_score(y_test,dtts_pred))\n",
    "print(classification_report(y_test,dtts_pred))"
   ]
  },
  {
   "cell_type": "markdown",
   "id": "954cd97f",
   "metadata": {},
   "source": [
    "### Applying Random Forest on Upsampling"
   ]
  },
  {
   "cell_type": "code",
   "execution_count": 82,
   "id": "aea03bcc",
   "metadata": {},
   "outputs": [
    {
     "data": {
      "text/plain": [
       "RandomForestClassifier(class_weight={0: 1, 1: 100})"
      ]
     },
     "execution_count": 82,
     "metadata": {},
     "output_type": "execute_result"
    }
   ],
   "source": [
    "class_weight=dict({0:1,1:100})\n",
    "from sklearn.ensemble import RandomForestClassifier\n",
    "rf=RandomForestClassifier(class_weight=class_weight)\n",
    "rf.fit(X_train,y_train)"
   ]
  },
  {
   "cell_type": "code",
   "execution_count": 83,
   "id": "1ceef4b1",
   "metadata": {},
   "outputs": [
    {
     "name": "stdout",
     "output_type": "stream",
     "text": [
      "Training Accuracy of Random Forest on Upsampling\n",
      "[[3180365   39420]\n",
      " [     53 3219817]]\n",
      "0.9938703237984022\n",
      "              precision    recall  f1-score   support\n",
      "\n",
      "           0       1.00      0.99      0.99   3219785\n",
      "           1       0.99      1.00      0.99   3219870\n",
      "\n",
      "    accuracy                           0.99   6439655\n",
      "   macro avg       0.99      0.99      0.99   6439655\n",
      "weighted avg       0.99      0.99      0.99   6439655\n",
      "\n"
     ]
    }
   ],
   "source": [
    "rftr_pred=rf.predict(X_train)\n",
    "print(\"Training Accuracy of Random Forest on Upsampling\")\n",
    "print(confusion_matrix(y_train,rftr_pred))\n",
    "print(accuracy_score(y_train,rftr_pred))\n",
    "print(classification_report(y_train,rftr_pred))"
   ]
  },
  {
   "cell_type": "code",
   "execution_count": 84,
   "id": "84d5d05d",
   "metadata": {},
   "outputs": [
    {
     "name": "stdout",
     "output_type": "stream",
     "text": [
      "Testing Accuracy of Random Forest on Upsampling\n",
      "[[1358361   21608]\n",
      " [  11978 1367906]]\n",
      "0.9878305112627376\n",
      "              precision    recall  f1-score   support\n",
      "\n",
      "           0       0.99      0.98      0.99   1379969\n",
      "           1       0.98      0.99      0.99   1379884\n",
      "\n",
      "    accuracy                           0.99   2759853\n",
      "   macro avg       0.99      0.99      0.99   2759853\n",
      "weighted avg       0.99      0.99      0.99   2759853\n",
      "\n"
     ]
    }
   ],
   "source": [
    "rfts_pred=rf.predict(X_test)\n",
    "print(\"Testing Accuracy of Random Forest on Upsampling\")\n",
    "print(confusion_matrix(y_test,rfts_pred))\n",
    "print(accuracy_score(y_test,rfts_pred))\n",
    "print(classification_report(y_test,rfts_pred))"
   ]
  },
  {
   "cell_type": "markdown",
   "id": "8e866a7d",
   "metadata": {},
   "source": [
    "### ROC & AUC Curve on upsampling of all models of testing prediction"
   ]
  },
  {
   "cell_type": "code",
   "execution_count": 85,
   "id": "084ad213",
   "metadata": {},
   "outputs": [
    {
     "data": {
      "image/png": "[encoded data removed]",
      "text/plain": [
       "<Figure size 500x500 with 1 Axes>"
      ]
     },
     "metadata": {
      "needs_background": "light"
     },
     "output_type": "display_data"
    }
   ],
   "source": [
    "from sklearn.metrics import roc_curve, auc\n",
    "\n",
    "logistic_fpr, logistic_tpr, threshold = roc_curve(y_test, lrts_pred)\n",
    "auc_logistic = auc(logistic_fpr, logistic_tpr)\n",
    "\n",
    "dt_fpr, dt_tpr, threshold = roc_curve(y_test, dtts_pred)\n",
    "auc_dt = auc(dt_fpr, dt_tpr)\n",
    "\n",
    "rf_fpr, rf_tpr, threshold = roc_curve(y_test, rfts_pred)\n",
    "auc_rf = auc(rf_fpr, rf_tpr)\n",
    "\n",
    "plt.figure(figsize=(5, 5), dpi=100)\n",
    "plt.plot(dt_fpr, dt_tpr, linestyle='-', label='Decision Tree (auc = %0.3f)' % auc_dt)\n",
    "plt.plot(logistic_fpr, logistic_tpr, marker='.', label='Logistic (auc = %0.3f)' % auc_logistic)\n",
    "plt.plot(rf_fpr, rf_tpr, linestyle='-', label='Random Forest (auc = %0.3f)' % auc_dt)\n",
    "\n",
    "plt.xlabel('False Positive Rate -->')\n",
    "plt.ylabel('True Positive Rate -->')\n",
    "\n",
    "plt.legend()\n",
    "\n",
    "plt.show()"
   ]
  },
  {
   "cell_type": "markdown",
   "id": "99c7f3fe",
   "metadata": {},
   "source": [
    "### We have applied logistic regression,decision tree and random forest on upsampled dataset and this time we have found that decision tree and random forest has given more accuracy than that of undersampled data¶"
   ]
  },
  {
   "cell_type": "markdown",
   "id": "dd3171c6",
   "metadata": {},
   "source": [
    "### Now we are checking for feature importance of decision tree model that which feature has more predictive power"
   ]
  },
  {
   "cell_type": "code",
   "execution_count": 86,
   "id": "0db310fd",
   "metadata": {},
   "outputs": [],
   "source": [
    "fi=pd.DataFrame({\"Feature Name\" : X.columns,\"Importance\":dtree.feature_importances_})"
   ]
  },
  {
   "cell_type": "code",
   "execution_count": 87,
   "id": "1c7b8524",
   "metadata": {},
   "outputs": [
    {
     "data": {
      "text/html": [
       "<div>\n",
       "<style scoped>\n",
       "    .dataframe tbody tr th:only-of-type {\n",
       "        vertical-align: middle;\n",
       "    }\n",
       "\n",
       "    .dataframe tbody tr th {\n",
       "        vertical-align: top;\n",
       "    }\n",
       "\n",
       "    .dataframe thead th {\n",
       "        text-align: right;\n",
       "    }\n",
       "</style>\n",
       "<table border=\"1\" class=\"dataframe\">\n",
       "  <thead>\n",
       "    <tr style=\"text-align: right;\">\n",
       "      <th></th>\n",
       "      <th>Feature Name</th>\n",
       "      <th>Importance</th>\n",
       "    </tr>\n",
       "  </thead>\n",
       "  <tbody>\n",
       "    <tr>\n",
       "      <th>3</th>\n",
       "      <td>balance</td>\n",
       "      <td>0.805917</td>\n",
       "    </tr>\n",
       "    <tr>\n",
       "      <th>1</th>\n",
       "      <td>district_id</td>\n",
       "      <td>0.120191</td>\n",
       "    </tr>\n",
       "    <tr>\n",
       "      <th>8</th>\n",
       "      <td>type_x_gold</td>\n",
       "      <td>0.019504</td>\n",
       "    </tr>\n",
       "    <tr>\n",
       "      <th>4</th>\n",
       "      <td>frequency_MI</td>\n",
       "      <td>0.014673</td>\n",
       "    </tr>\n",
       "    <tr>\n",
       "      <th>6</th>\n",
       "      <td>frequency_WI</td>\n",
       "      <td>0.011123</td>\n",
       "    </tr>\n",
       "    <tr>\n",
       "      <th>7</th>\n",
       "      <td>type_x_classic</td>\n",
       "      <td>0.009693</td>\n",
       "    </tr>\n",
       "    <tr>\n",
       "      <th>5</th>\n",
       "      <td>frequency_TI</td>\n",
       "      <td>0.008609</td>\n",
       "    </tr>\n",
       "    <tr>\n",
       "      <th>2</th>\n",
       "      <td>client_sex</td>\n",
       "      <td>0.004352</td>\n",
       "    </tr>\n",
       "    <tr>\n",
       "      <th>0</th>\n",
       "      <td>client_age</td>\n",
       "      <td>0.003037</td>\n",
       "    </tr>\n",
       "    <tr>\n",
       "      <th>9</th>\n",
       "      <td>type_x_junior</td>\n",
       "      <td>0.002901</td>\n",
       "    </tr>\n",
       "  </tbody>\n",
       "</table>\n",
       "</div>"
      ],
      "text/plain": [
       "     Feature Name  Importance\n",
       "3         balance    0.805917\n",
       "1     district_id    0.120191\n",
       "8     type_x_gold    0.019504\n",
       "4    frequency_MI    0.014673\n",
       "6    frequency_WI    0.011123\n",
       "7  type_x_classic    0.009693\n",
       "5    frequency_TI    0.008609\n",
       "2      client_sex    0.004352\n",
       "0      client_age    0.003037\n",
       "9   type_x_junior    0.002901"
      ]
     },
     "execution_count": 87,
     "metadata": {},
     "output_type": "execute_result"
    }
   ],
   "source": [
    "fi.sort_values(by=['Importance'],ascending=False)"
   ]
  },
  {
   "cell_type": "markdown",
   "id": "f7e9a411",
   "metadata": {},
   "source": [
    "### we have found that balance feature has more predictive power than all of the other features which has highest value"
   ]
  },
  {
   "cell_type": "code",
   "execution_count": null,
   "id": "ff91ee83",
   "metadata": {},
   "outputs": [],
   "source": []
  }
 ],
 "metadata": {
  "interpreter": {
   "hash": "b3ba2566441a7c06988d0923437866b63cedc61552a5af99d1f4fb67d367b25f"
  },
  "kernelspec": {
   "display_name": "conda_tensorflow2_p36",
   "language": "python",
   "name": "conda_tensorflow2_p36"
  },
  "language_info": {
   "codemirror_mode": {
    "name": "ipython",
    "version": 3
   },
   "file_extension": ".py",
   "mimetype": "text/x-python",
   "name": "python",
   "nbconvert_exporter": "python",
   "pygments_lexer": "ipython3",
   "version": "3.6.13"
  }
 },
 "nbformat": 4,
 "nbformat_minor": 5
}
